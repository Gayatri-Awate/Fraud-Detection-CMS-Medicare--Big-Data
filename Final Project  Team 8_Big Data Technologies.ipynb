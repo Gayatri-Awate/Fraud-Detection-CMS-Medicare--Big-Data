{
 "cells": [
  {
   "cell_type": "code",
   "execution_count": 1,
   "metadata": {},
   "outputs": [],
   "source": [
    "from pyspark.sql import SparkSession\n",
    "spark = SparkSession.builder \\\n",
    "  .appName('2.1. Google Cloud Storage (CSV) & Spark DataFrames') \\\n",
    "  .getOrCreate()"
   ]
  },
  {
   "cell_type": "markdown",
   "metadata": {},
   "source": [
    "Big Data Technologies \n",
    "\n",
    "Fraud Detection of CMS Medicare\n",
    "\n",
    "Team 8 \n",
    "\n",
    "Gayatri Awate 20015754\n",
    "Shreneel Kala 20015446\n",
    "Simoni Patani 20011528"
   ]
  },
  {
   "cell_type": "markdown",
   "metadata": {},
   "source": [
    "A data science model is being built to predict fraud in the medical insurance industry using real-time analysis and classification algorithms.\n",
    "The tool can benefit patients, pharmacies, doctors, and the industry by handling the impact of fraud and increasing credibility.\n",
    "Medicare and Medicaid services have been facing significant fiscal losses due to healthcare fraud.\n",
    "The project aims to build a basic data model, a comprehensive AI model, and a benchmark measurement to develop a market-ready product for fraud detection.\n",
    "Target Value will be is_fraud"
   ]
  },
  {
   "cell_type": "code",
   "execution_count": 2,
   "metadata": {},
   "outputs": [],
   "source": [
    "PartDRawData = \"shreneel-bigdata1/Medicare_Part_D_Prescribers_by_Provider_and_Drug_Dataset_2016.csv\""
   ]
  },
  {
   "cell_type": "markdown",
   "metadata": {},
   "source": [
    "Extracting data from Google data storage buckets"
   ]
  },
  {
   "cell_type": "code",
   "execution_count": 3,
   "metadata": {},
   "outputs": [
    {
     "data": {
      "text/plain": [
       "[<Blob: shreneel-bigdata1, Medicare_Part_D_Prescribers_by_Provider_and_Drug_Dataset_2016.csv, 1683164667126860>]"
      ]
     },
     "execution_count": 3,
     "metadata": {},
     "output_type": "execute_result"
    }
   ],
   "source": [
    "\n",
    "from google.cloud import storage\n",
    "\n",
    "gcs_client = storage.Client()\n",
    "bucket = gcs_client.bucket('shreneel-bigdata1')\n",
    "\n",
    "list(bucket.list_blobs(prefix='Medicare_Part_D_Prescribers_by_Provider_and_Drug_Dataset_2016.csv'))"
   ]
  },
  {
   "cell_type": "code",
   "execution_count": 4,
   "metadata": {},
   "outputs": [
    {
     "name": "stdout",
     "output_type": "stream",
     "text": [
      "-rwx------   3 root root 3580761897 2023-05-04 01:44 gs://shreneel-bigdata1/Medicare_Part_D_Prescribers_by_Provider_and_Drug_Dataset_2016.csv\n"
     ]
    }
   ],
   "source": [
    "!hdfs dfs -ls 'gs://shreneel-bigdata1/Medicare_Part_D_Prescribers_by_Provider_and_Drug_Dataset_2016.csv'"
   ]
  },
  {
   "cell_type": "markdown",
   "metadata": {},
   "source": [
    "Creating Spark Dataframe"
   ]
  },
  {
   "cell_type": "code",
   "execution_count": 5,
   "metadata": {},
   "outputs": [
    {
     "name": "stdout",
     "output_type": "stream",
     "text": [
      "root\n",
      " |-- Prscrbr_NPI: integer (nullable = true)\n",
      " |-- Prscrbr_Last_Org_Name: string (nullable = true)\n",
      " |-- Prscrbr_First_Name: string (nullable = true)\n",
      " |-- Prscrbr_City: string (nullable = true)\n",
      " |-- Prscrbr_State_Abrvtn: string (nullable = true)\n",
      " |-- Prscrbr_State_FIPS: string (nullable = true)\n",
      " |-- Prscrbr_Type: string (nullable = true)\n",
      " |-- Prscrbr_Type_Src: string (nullable = true)\n",
      " |-- Brnd_Name: string (nullable = true)\n",
      " |-- Gnrc_Name: string (nullable = true)\n",
      " |-- Tot_Clms: integer (nullable = true)\n",
      " |-- Tot_30day_Fills: double (nullable = true)\n",
      " |-- Tot_Day_Suply: integer (nullable = true)\n",
      " |-- Tot_Drug_Cst: double (nullable = true)\n",
      " |-- Tot_Benes: integer (nullable = true)\n",
      " |-- GE65_Sprsn_Flag: string (nullable = true)\n",
      " |-- GE65_Tot_Clms: integer (nullable = true)\n",
      " |-- GE65_Tot_30day_Fills: double (nullable = true)\n",
      " |-- GE65_Tot_Drug_Cst: double (nullable = true)\n",
      " |-- GE65_Tot_Day_Suply: integer (nullable = true)\n",
      " |-- GE65_Bene_Sprsn_Flag: string (nullable = true)\n",
      " |-- GE65_Tot_Benes: integer (nullable = true)\n",
      "\n"
     ]
    }
   ],
   "source": [
    "partD_drug_rawdata = spark \\\n",
    "  .read \\\n",
    "  .option ( \"inferSchema\" , \"true\" ) \\\n",
    "  .option ( \"header\" , \"true\" ) \\\n",
    "  .csv ( \"gs://shreneel-bigdata1/Medicare_Part_D_Prescribers_by_Provider_and_Drug_Dataset_2016.csv\" )\n",
    "\n",
    "partD_drug_rawdata.printSchema()"
   ]
  },
  {
   "cell_type": "code",
   "execution_count": 6,
   "metadata": {},
   "outputs": [],
   "source": [
    "df1=partD_drug_rawdata"
   ]
  },
  {
   "cell_type": "code",
   "execution_count": 7,
   "metadata": {},
   "outputs": [
    {
     "data": {
      "text/plain": [
       "DataFrame[Prscrbr_NPI: int, Prscrbr_Last_Org_Name: string, Prscrbr_First_Name: string, Prscrbr_City: string, Prscrbr_State_Abrvtn: string, Prscrbr_State_FIPS: string, Prscrbr_Type: string, Prscrbr_Type_Src: string, Brnd_Name: string, Gnrc_Name: string, Tot_Clms: int, Tot_30day_Fills: double, Tot_Day_Suply: int, Tot_Drug_Cst: double, Tot_Benes: int, GE65_Sprsn_Flag: string, GE65_Tot_Clms: int, GE65_Tot_30day_Fills: double, GE65_Tot_Drug_Cst: double, GE65_Tot_Day_Suply: int, GE65_Bene_Sprsn_Flag: string, GE65_Tot_Benes: int]"
      ]
     },
     "execution_count": 7,
     "metadata": {},
     "output_type": "execute_result"
    }
   ],
   "source": [
    "df1"
   ]
  },
  {
   "cell_type": "markdown",
   "metadata": {},
   "source": [
    "Displaying the number of rows and columns in Dataset 1"
   ]
  },
  {
   "cell_type": "code",
   "execution_count": 8,
   "metadata": {},
   "outputs": [
    {
     "name": "stdout",
     "output_type": "stream",
     "text": [
      "Number of rows:  24964300\n",
      "Number of columns:  22\n"
     ]
    }
   ],
   "source": [
    "num_rows = df1.count()\n",
    "num_cols = len(df1.columns)\n",
    "print(\"Number of rows: \", num_rows)\n",
    "print(\"Number of columns: \", num_cols)"
   ]
  },
  {
   "cell_type": "markdown",
   "metadata": {},
   "source": [
    "Selecting Essential columns from Dataframe"
   ]
  },
  {
   "cell_type": "code",
   "execution_count": 9,
   "metadata": {},
   "outputs": [],
   "source": [
    "\n",
    "from pyspark.sql.functions import col\n",
    "\n",
    "partD_Drug_pd1 = df1.select(col(\"Prscrbr_NPI\"), col(\"Prscrbr_City\"), col(\"Prscrbr_State_Abrvtn\"), \\\n",
    "                            col(\"Prscrbr_Last_Org_Name\"), col(\"Prscrbr_First_Name\"), \\\n",
    "                            col(\"Prscrbr_Type\"), col(\"Brnd_Name\"), col(\"Gnrc_Name\"), \\\n",
    "                            col(\"Tot_Drug_Cst\"), col(\"Tot_Clms\"), col(\"Tot_Day_Suply\"))"
   ]
  },
  {
   "cell_type": "code",
   "execution_count": 10,
   "metadata": {},
   "outputs": [],
   "source": [
    "partD_pd1 = partD_Drug_pd1"
   ]
  },
  {
   "cell_type": "code",
   "execution_count": 11,
   "metadata": {},
   "outputs": [
    {
     "name": "stdout",
     "output_type": "stream",
     "text": [
      "+-----------+--------------------+------------+--------+-------------+-----------------+\n",
      "|Prscrbr_NPI|           Brnd_Name|Tot_Drug_Cst|Tot_Clms|Tot_Day_Suply|     Prscrbr_Type|\n",
      "+-----------+--------------------+------------+--------+-------------+-----------------+\n",
      "| 1003000126|Atorvastatin Calcium|      139.32|      13|          450|Internal Medicine|\n",
      "| 1003000126|   Ciprofloxacin Hcl|       80.99|      11|           96|Internal Medicine|\n",
      "| 1003000126| Doxycycline Hyclate|      586.12|      20|          199|Internal Medicine|\n",
      "| 1003000126|             Eliquis|     6065.02|      17|          510|Internal Medicine|\n",
      "| 1003000126|          Furosemide|       45.76|      17|          405|Internal Medicine|\n",
      "| 1003000126|     Hydralazine Hcl|      169.48|      16|          420|Internal Medicine|\n",
      "| 1003000126|Isosorbide Mononi...|      372.63|      33|         1005|Internal Medicine|\n",
      "| 1003000126|        Levofloxacin|      222.41|      26|          159|Internal Medicine|\n",
      "| 1003000126|          Lisinopril|      129.24|      31|          960|Internal Medicine|\n",
      "| 1003000126| Metoprolol Tartrate|      183.29|      33|         1050|Internal Medicine|\n",
      "| 1003000126|       Metronidazole|      152.66|      12|          127|Internal Medicine|\n",
      "| 1003000126| Pantoprazole Sodium|      140.83|      15|          450|Internal Medicine|\n",
      "| 1003000126|          Prednisone|       59.96|      20|          121|Internal Medicine|\n",
      "| 1003000126|     Warfarin Sodium|      197.69|      12|          236|Internal Medicine|\n",
      "| 1003000126|             Xarelto|     12110.2|      34|          943|Internal Medicine|\n",
      "| 1003000142|Acetaminophen-Cod...|      577.96|      51|         1398|   Anesthesiology|\n",
      "| 1003000142|   Amitriptyline Hcl|       254.2|      29|          870|   Anesthesiology|\n",
      "| 1003000142|            Baclofen|     2106.97|     104|         3194|   Anesthesiology|\n",
      "| 1003000142|             Butrans|    24514.23|      63|         1764|   Anesthesiology|\n",
      "| 1003000142| Cyclobenzaprine Hcl|       31.88|      11|          300|   Anesthesiology|\n",
      "+-----------+--------------------+------------+--------+-------------+-----------------+\n",
      "only showing top 20 rows\n",
      "\n"
     ]
    }
   ],
   "source": [
    "from pyspark.sql.functions import col\n",
    "from pyspark.sql.types import StringType\n",
    "\n",
    "\n",
    "\n",
    "# Select the required columns\n",
    "partD_Drug_df = partD_pd1.select(col('Prscrbr_NPI'), col('Brnd_Name'), col('Tot_Drug_Cst'), col('Tot_Clms'), col('Tot_Day_Suply'), col('Prscrbr_Type'))\n",
    "\n",
    "# Cast the 'npi' column to 'StringType'\n",
    "partD_Drug_df = partD_Drug_df.withColumn('Prscrbr_NPI', col('Prscrbr_NPI').cast(StringType()))\n",
    "\n",
    "# Show the resulting DataFrame\n",
    "partD_Drug_df.show()\n"
   ]
  },
  {
   "cell_type": "code",
   "execution_count": 12,
   "metadata": {},
   "outputs": [
    {
     "name": "stdout",
     "output_type": "stream",
     "text": [
      "+-----------+-----------------+\n",
      "|Prscrbr_NPI|     Prscrbr_Type|\n",
      "+-----------+-----------------+\n",
      "| 1003000126|Internal Medicine|\n",
      "| 1003000126|Internal Medicine|\n",
      "| 1003000126|Internal Medicine|\n",
      "| 1003000126|Internal Medicine|\n",
      "| 1003000126|Internal Medicine|\n",
      "| 1003000126|Internal Medicine|\n",
      "| 1003000126|Internal Medicine|\n",
      "| 1003000126|Internal Medicine|\n",
      "| 1003000126|Internal Medicine|\n",
      "| 1003000126|Internal Medicine|\n",
      "| 1003000126|Internal Medicine|\n",
      "| 1003000126|Internal Medicine|\n",
      "| 1003000126|Internal Medicine|\n",
      "| 1003000126|Internal Medicine|\n",
      "| 1003000126|Internal Medicine|\n",
      "| 1003000142|   Anesthesiology|\n",
      "| 1003000142|   Anesthesiology|\n",
      "| 1003000142|   Anesthesiology|\n",
      "| 1003000142|   Anesthesiology|\n",
      "| 1003000142|   Anesthesiology|\n",
      "+-----------+-----------------+\n",
      "only showing top 20 rows\n",
      "\n"
     ]
    }
   ],
   "source": [
    " # Select the required columns\n",
    "partD_Spec_pd1 = partD_pd1.select(col('Prscrbr_NPI'), col('Prscrbr_Type'))\n",
    "# Show the resulting DataFrame\n",
    "partD_Spec_pd1.show()\n"
   ]
  },
  {
   "cell_type": "code",
   "execution_count": 13,
   "metadata": {},
   "outputs": [
    {
     "data": {
      "text/plain": [
       "Row(Prscrbr_NPI='1003000126', Brnd_Name='Atorvastatin Calcium', Tot_Drug_Cst=139.32, Tot_Clms=13, Tot_Day_Suply=450, Prscrbr_Type='Internal Medicine')"
      ]
     },
     "execution_count": 13,
     "metadata": {},
     "output_type": "execute_result"
    }
   ],
   "source": [
    "partD_Drug_df.head()"
   ]
  },
  {
   "cell_type": "markdown",
   "metadata": {},
   "source": [
    "Selecting the required columns and Showing the resulting DataFrame"
   ]
  },
  {
   "cell_type": "code",
   "execution_count": 14,
   "metadata": {},
   "outputs": [
    {
     "name": "stdout",
     "output_type": "stream",
     "text": [
      "+-----------+------------+--------------------+---------------------+------------------+-----------------+\n",
      "|Prscrbr_NPI|Prscrbr_City|Prscrbr_State_Abrvtn|Prscrbr_Last_Org_Name|Prscrbr_First_Name|     Prscrbr_Type|\n",
      "+-----------+------------+--------------------+---------------------+------------------+-----------------+\n",
      "| 1003000126|  Cumberland|                  MD|            Enkeshafi|           Ardalan|Internal Medicine|\n",
      "| 1003000126|  Cumberland|                  MD|            Enkeshafi|           Ardalan|Internal Medicine|\n",
      "| 1003000126|  Cumberland|                  MD|            Enkeshafi|           Ardalan|Internal Medicine|\n",
      "| 1003000126|  Cumberland|                  MD|            Enkeshafi|           Ardalan|Internal Medicine|\n",
      "| 1003000126|  Cumberland|                  MD|            Enkeshafi|           Ardalan|Internal Medicine|\n",
      "| 1003000126|  Cumberland|                  MD|            Enkeshafi|           Ardalan|Internal Medicine|\n",
      "| 1003000126|  Cumberland|                  MD|            Enkeshafi|           Ardalan|Internal Medicine|\n",
      "| 1003000126|  Cumberland|                  MD|            Enkeshafi|           Ardalan|Internal Medicine|\n",
      "| 1003000126|  Cumberland|                  MD|            Enkeshafi|           Ardalan|Internal Medicine|\n",
      "| 1003000126|  Cumberland|                  MD|            Enkeshafi|           Ardalan|Internal Medicine|\n",
      "| 1003000126|  Cumberland|                  MD|            Enkeshafi|           Ardalan|Internal Medicine|\n",
      "| 1003000126|  Cumberland|                  MD|            Enkeshafi|           Ardalan|Internal Medicine|\n",
      "| 1003000126|  Cumberland|                  MD|            Enkeshafi|           Ardalan|Internal Medicine|\n",
      "| 1003000126|  Cumberland|                  MD|            Enkeshafi|           Ardalan|Internal Medicine|\n",
      "| 1003000126|  Cumberland|                  MD|            Enkeshafi|           Ardalan|Internal Medicine|\n",
      "| 1003000142|      Toledo|                  OH|               Khalil|            Rashid|   Anesthesiology|\n",
      "| 1003000142|      Toledo|                  OH|               Khalil|            Rashid|   Anesthesiology|\n",
      "| 1003000142|      Toledo|                  OH|               Khalil|            Rashid|   Anesthesiology|\n",
      "| 1003000142|      Toledo|                  OH|               Khalil|            Rashid|   Anesthesiology|\n",
      "| 1003000142|      Toledo|                  OH|               Khalil|            Rashid|   Anesthesiology|\n",
      "+-----------+------------+--------------------+---------------------+------------------+-----------------+\n",
      "only showing top 20 rows\n",
      "\n"
     ]
    }
   ],
   "source": [
    "\n",
    "# Select the required columns\n",
    "partD_pd0= partD_pd1.select(col('Prscrbr_NPI'), col('Prscrbr_City'), col('Prscrbr_State_Abrvtn'), \\\n",
    "                               col('Prscrbr_Last_Org_Name'), col('Prscrbr_First_Name'), \\\n",
    "                               col('Prscrbr_Type'))\n",
    "\n",
    "# Show the resulting DataFrame\n",
    "partD_pd0.show()\n"
   ]
  },
  {
   "cell_type": "markdown",
   "metadata": {},
   "source": [
    "Dropping Duplicates directly as dataset is large and will not affect analysis"
   ]
  },
  {
   "cell_type": "code",
   "execution_count": 15,
   "metadata": {},
   "outputs": [],
   "source": [
    "partD_catfpd = partD_pd0.drop_duplicates()"
   ]
  },
  {
   "cell_type": "code",
   "execution_count": 16,
   "metadata": {},
   "outputs": [
    {
     "data": {
      "text/plain": [
       "Row(Prscrbr_NPI=1184760365, Prscrbr_City='Charlotte', Prscrbr_State_Abrvtn='MI', Prscrbr_Last_Org_Name='Knowles', Prscrbr_First_Name='Lisa', Prscrbr_Type='Dentist')"
      ]
     },
     "execution_count": 16,
     "metadata": {},
     "output_type": "execute_result"
    }
   ],
   "source": [
    "partD_catfpd.head()"
   ]
  },
  {
   "cell_type": "markdown",
   "metadata": {},
   "source": [
    "Renaming columns for readability and seamless future use"
   ]
  },
  {
   "cell_type": "code",
   "execution_count": 17,
   "metadata": {},
   "outputs": [
    {
     "name": "stdout",
     "output_type": "stream",
     "text": [
      "+-----------+------------------+-----+----------+----------+--------------------+\n",
      "|Prscrbr_NPI|              city|state| last_name|first_name|          Speciality|\n",
      "+-----------+------------------+-----+----------+----------+--------------------+\n",
      "| 1154311595|          Harrison|   AR|    Stills|     David|     Family Practice|\n",
      "| 1154312072|          New York|   NY|   Newland| Jamesetta|  Nurse Practitioner|\n",
      "| 1154318798|           Cloquet|   MN|   Kosmach|     Lynne|  Nurse Practitioner|\n",
      "| 1154327534|       Saint Louis|   MO|     Smith|   Kenneth|     General Surgery|\n",
      "| 1154336956|        Southfield|   MI|      Gork|   Stephen|             Dentist|\n",
      "| 1154350544|        Pittsburgh|   PA|    Covato|     Lucia|             Dentist|\n",
      "| 1154354868|          Portland|   OR|  Tenscher|       Max|  Nurse Practitioner|\n",
      "| 1154356194|         Fairfield|   CT|     Ranno|   Michele|   Internal Medicine|\n",
      "| 1154356988|            Bourne|   MA|  Langston|      John|Maxillofacial Sur...|\n",
      "| 1154359040|    Mechanicsville|   VA|     Kelly|     David|     Family Practice|\n",
      "| 1154361558|         San Diego|   CA|    Dysart|   Jeffrey|     Family Practice|\n",
      "| 1154362275|           Cullman|   AL|   Windham|   Gregory|     General Surgery|\n",
      "| 1154365476|Palm Beach Gardens|   FL|    Pinder|     Carol|  Nurse Practitioner|\n",
      "| 1154372266|         Oak Ridge|   TN|     Greer|      Mark|           Optometry|\n",
      "| 1154373827|      Myrtle Beach|   SC|    Purvis|    Robert|         Dermatology|\n",
      "| 1154373850|           Durango|   CO|   Youssef|       Jim|  Orthopedic Surgery|\n",
      "| 1154379014|             Omaha|   NE|   Janssen|     Misty|     Family Practice|\n",
      "| 1154395382|             Islip|   NY|Firouztale|    Edward|           Neurology|\n",
      "| 1154397503|      White Plains|   NY|    Oksman|     Henry|       Ophthalmology|\n",
      "| 1154398121|       Brownsville|   TX|  Gonzalez|      Juan|     Family Practice|\n",
      "+-----------+------------------+-----+----------+----------+--------------------+\n",
      "only showing top 20 rows\n",
      "\n"
     ]
    }
   ],
   "source": [
    "\n",
    "# Define the rename dictionary\n",
    "rename_dict = {'Prscrbr_First_Name':'first_name', 'Prscrbr_Last_Org_Name':'last_name', \\\n",
    "               'Prscrbr_City':'city', 'Prscrbr_State_Abrvtn':'state', 'Prscrbr_Type':'Speciality'}\n",
    "\n",
    "\n",
    "\n",
    "# Rename the columns\n",
    "for old_col, new_col in rename_dict.items():\n",
    "    partD_catfpd = partD_catfpd.withColumnRenamed(old_col, new_col)\n",
    "\n",
    "# Show the resulting DataFrame\n",
    "partD_catfpd.show()"
   ]
  },
  {
   "cell_type": "markdown",
   "metadata": {},
   "source": [
    "Creating graph to show number of doctors in each state"
   ]
  },
  {
   "cell_type": "code",
   "execution_count": 18,
   "metadata": {},
   "outputs": [
    {
     "name": "stderr",
     "output_type": "stream",
     "text": [
      "/opt/conda/anaconda/lib/python3.7/site-packages/statsmodels/tools/_testing.py:19: FutureWarning: pandas.util.testing is deprecated. Use the functions in the public API at pandas.testing instead.\n",
      "  import pandas.util.testing as tm\n"
     ]
    },
    {
     "data": {
      "text/plain": [
       "<Figure size 1500x500 with 1 Axes>"
      ]
     },
     "metadata": {},
     "output_type": "display_data"
    }
   ],
   "source": [
    "import seaborn as sns\n",
    "import matplotlib.pyplot as plt\n",
    "\n",
    "# Count the number of doctors in each state\n",
    "state_counts = partD_catfpd.groupBy('state').count().orderBy('state')\n",
    "\n",
    "# Create a bar chart of the state counts\n",
    "sns.set(style=\"darkgrid\")\n",
    "plt.figure(figsize=(15,5))\n",
    "ax = sns.barplot(x=\"state\", y=\"count\", data=state_counts.toPandas())\n",
    "ax.set_xticklabels(ax.get_xticklabels(), rotation=90, ha=\"right\")\n",
    "\n",
    "plt.xlabel(\"State\")\n",
    "plt.ylabel(\"Number of Doctors\")\n",
    "plt.title(\"Bar chart of Number of Doctors in Each State\")\n",
    "plt.show()\n"
   ]
  },
  {
   "cell_type": "code",
   "execution_count": 19,
   "metadata": {},
   "outputs": [
    {
     "data": {
      "text/plain": [
       "893160"
      ]
     },
     "execution_count": 19,
     "metadata": {},
     "output_type": "execute_result"
    }
   ],
   "source": [
    "partD_catfpd.count()"
   ]
  },
  {
   "cell_type": "markdown",
   "metadata": {},
   "source": [
    "Using agg() function to take sum, mean and max of selected features"
   ]
  },
  {
   "cell_type": "code",
   "execution_count": 20,
   "metadata": {},
   "outputs": [],
   "source": [
    "from pyspark.sql.functions import sum, mean, max\n",
    "\n",
    "partD_agg=partD_Drug_df.groupBy('Prscrbr_NPI').agg(sum('Tot_Drug_Cst').alias('sum_tot_drug_cst'),\n",
    "                              mean('Tot_Drug_Cst').alias('avg_tot_drug_cst'),\n",
    "                              max('Tot_Drug_Cst').alias('max_tot_drug_cst'),\n",
    "                              sum('Tot_Clms').alias('sum_tot_clms'),\n",
    "                              mean('Tot_Clms').alias('avg_tot_clms'),\n",
    "                              max('Tot_Clms').alias('max_tot_clms'),\n",
    "                              sum('Tot_Day_Suply').alias('sum_tot_day_suply'),\n",
    "                              mean('Tot_Day_Suply').alias('avg_tot_day_suply'),\n",
    "                              max('Tot_Day_Suply').alias('max_tot_day_suply'))\n"
   ]
  },
  {
   "cell_type": "code",
   "execution_count": 21,
   "metadata": {},
   "outputs": [
    {
     "name": "stdout",
     "output_type": "stream",
     "text": [
      "+-----------+------------------+------------------+----------------+------------+------------------+------------+-----------------+------------------+-----------------+\n",
      "|Prscrbr_NPI|  sum_tot_drug_cst|  avg_tot_drug_cst|max_tot_drug_cst|sum_tot_clms|      avg_tot_clms|max_tot_clms|sum_tot_day_suply| avg_tot_day_suply|max_tot_day_suply|\n",
      "+-----------+------------------+------------------+----------------+------------+------------------+------------+-----------------+------------------+-----------------+\n",
      "| 1033388616|         418520.54|        16740.8216|       105879.23|        1135|              45.4|         217|            44265|            1770.6|             9639|\n",
      "| 1033392337|            703.09|          175.7725|          298.34|         119|             29.75|          62|              747|            186.75|              439|\n",
      "| 1033394812|            701.25|           116.875|          204.95|         149|24.833333333333332|          56|              580| 96.66666666666667|              197|\n",
      "| 1033406855|           95117.0| 4135.521739130435|        33530.99|        1657| 72.04347826086956|         532|            49103| 2134.913043478261|            21235|\n",
      "| 1033424932|2987.7000000000003| 597.5400000000001|         1361.39|         223|              44.6|         130|             6587|            1317.4|             4512|\n",
      "| 1033430277|            178.55|            178.55|          178.55|          14|              14.0|          14|              480|             480.0|              480|\n",
      "| 1033438783|229.17000000000002|             76.39|           109.4|          36|              12.0|          14|              147|              49.0|               70|\n",
      "| 1033461900|             170.4|             170.4|           170.4|          12|              12.0|          12|              360|             360.0|              360|\n",
      "| 1033493556|           6142.87|361.34529411764703|         4106.29|         311|18.294117647058822|          35|             6100| 358.8235294117647|              840|\n",
      "| 1033498282|            307.07|102.35666666666667|          115.33|          70|23.333333333333332|          26|              740|246.66666666666666|              442|\n",
      "| 1033512579|             99.19|             99.19|           99.19|          12|              12.0|          12|              360|             360.0|              360|\n",
      "| 1033552682|2005.8000000000002|182.34545454545457|          492.35|         180|16.363636363636363|          31|             4263|387.54545454545456|              615|\n",
      "| 1033555933|           8397.18| 645.9369230769231|         3291.93|         394|30.307692307692307|          83|            13630|1048.4615384615386|             3180|\n",
      "| 1033581269|             98.25|             98.25|           98.25|          14|              14.0|          14|               62|              62.0|               62|\n",
      "| 1033588405|           1795.98|256.56857142857143|           551.8|         120|17.142857142857142|          22|             2415|             345.0|              837|\n",
      "| 1033664636|           8207.74|           8207.74|         8207.74|          18|              18.0|          18|              630|             630.0|              630|\n",
      "| 1043200892|            283.79|           141.895|          186.36|          66|              33.0|          38|             2880|            1440.0|             1800|\n",
      "| 1043202849|         106150.72|8165.4400000000005|        29977.22|         414|31.846153846153847|          62|            17294|1330.3076923076924|             2848|\n",
      "| 1043205974|           7839.57|           522.638|         1468.18|         370|24.666666666666668|          73|            10282| 685.4666666666667|             2710|\n",
      "| 1043215361|250588.47000000003| 5568.632666666667|        60430.96|        3244| 72.08888888888889|         405|           235469| 5232.644444444444|            33963|\n",
      "+-----------+------------------+------------------+----------------+------------+------------------+------------+-----------------+------------------+-----------------+\n",
      "only showing top 20 rows\n",
      "\n"
     ]
    }
   ],
   "source": [
    "partD_agg.show()"
   ]
  },
  {
   "cell_type": "markdown",
   "metadata": {},
   "source": [
    "Scatterplot depicting Average Drug cose VS. Average total claims"
   ]
  },
  {
   "cell_type": "code",
   "execution_count": 22,
   "metadata": {},
   "outputs": [
    {
     "data": {
      "image/png": "[encoded data removed]",
      "text/plain": [
       "<Figure size 432x288 with 1 Axes>"
      ]
     },
     "metadata": {
      "needs_background": "light"
     },
     "output_type": "display_data"
    }
   ],
   "source": [
    "\n",
    "# Extract the top 20 rows from the DataFrame\n",
    "top_20_rows = partD_agg.limit(20).toPandas()\n",
    "\n",
    "\n",
    "# Create a scatter plot to visualize the relationship between average total drug cost and average total claims\n",
    "plt.scatter(x=top_20_rows['avg_tot_drug_cst'], y=top_20_rows['avg_tot_clms'])\n",
    "plt.xlabel('Average Total Drug Cost')\n",
    "plt.ylabel('Average Total Claims')\n",
    "plt.title('Top 20 Prescribers by Average Total Drug Cost and Average Total Claims')\n",
    "plt.show()"
   ]
  },
  {
   "cell_type": "markdown",
   "metadata": {},
   "source": [
    "Joining dataset to Prscrbr_npi using left join"
   ]
  },
  {
   "cell_type": "code",
   "execution_count": 23,
   "metadata": {},
   "outputs": [],
   "source": [
    "from pyspark.sql.functions import col\n",
    "\n",
    "partD_allpd = partD_agg.join(partD_catfpd, on='Prscrbr_NPI', how='left')\n",
    "\n"
   ]
  },
  {
   "cell_type": "code",
   "execution_count": 24,
   "metadata": {},
   "outputs": [
    {
     "name": "stdout",
     "output_type": "stream",
     "text": [
      "+-----------+------------------+------------------+----------------+------------+------------------+------------+-----------------+------------------+-----------------+------------+-----+-------------+----------+-------------------+\n",
      "|Prscrbr_NPI|  sum_tot_drug_cst|  avg_tot_drug_cst|max_tot_drug_cst|sum_tot_clms|      avg_tot_clms|max_tot_clms|sum_tot_day_suply| avg_tot_day_suply|max_tot_day_suply|        city|state|    last_name|first_name|         Speciality|\n",
      "+-----------+------------------+------------------+----------------+------------+------------------+------------+-----------------+------------------+-----------------+------------+-----+-------------+----------+-------------------+\n",
      "| 1003043209|          39676.76|1202.3260606060608|         9329.51|        1170| 35.45454545454545|         109|            44482| 1347.939393939394|             5262|        Lynn|   MA|        Affel|  Marjorie|    Family Practice|\n",
      "| 1003072810|214723.17999999996|2618.5753658536582|        21064.12|        3625|44.207317073170735|         197|           140816|1717.2682926829268|             7803|  Huntington|   WV|        White|   Leonard|  Internal Medicine|\n",
      "| 1003094665|            457.97|152.65666666666667|          249.49|          70|23.333333333333332|          46|              242| 80.66666666666667|               90|       Tulsa|   OK|       Kebert|      Cory| Emergency Medicine|\n",
      "| 1003113671|29403.269999999997|2100.2335714285714|        17090.19|         393|28.071428571428573|          65|            12569| 897.7857142857143|             2130|      Toledo|   OH|        Kyser|   Stephen|Physician Assistant|\n",
      "| 1003115718|            676.96|           135.392|          333.83|          65|              13.0|          15|             3249|             649.8|             1050|     Lansing|   MI|    Arsenault|    Angela| Nurse Practitioner|\n",
      "| 1003126392|            501.47|167.15666666666667|          196.42|         104|34.666666666666664|          75|              402|             134.0|              238|      Bangor|   PA|      Rinaldi|    Jerome|            Dentist|\n",
      "| 1003146945|          87275.01| 4593.421578947368|        58106.43|         683| 35.94736842105263|         104|            23605|1242.3684210526317|             4425|   Northport|   NY|        Moore|    Cheryl| Nurse Practitioner|\n",
      "| 1003148867|         540061.47|      33753.841875|       269250.22|         603|           37.6875|         142|            20678|          1292.375|             4920|  Greenville|   NC|Streeter-Moye|     Staci| Nurse Practitioner|\n",
      "| 1003160532|         109847.27|         5492.3635|        38419.78|         935|             46.75|         176|            49506|            2475.3|            10490|      Dallas|   TX|     Gagliano|     Maria| Nurse Practitioner|\n",
      "| 1003163924|           6802.99|          3401.495|         5490.38|         118|              59.0|          96|             6673|            3336.5|             6438|    San Jose|   CA|          Yao|      Simo|         Pharmacist|\n",
      "| 1003164153|156818.74000000008|1522.5120388349521|        26960.17|        3802|  36.9126213592233|         182|           151473| 1470.611650485437|             7300|     Augusta|   GA|       Mccall|    Rachel|Physician Assistant|\n",
      "| 1003166273|            151.41|            75.705|           99.35|          55|              27.5|          40|              207|             103.5|              170|  Fort Myers|   FL|        Singh|   Reetane|            Dentist|\n",
      "| 1003179805|1143457.6899999995| 45738.30759999998|        946140.4|         758|             30.32|         139|            30382|           1215.28|             6959|   Baltimore|   MD|         Fang| Christina| Nurse Practitioner|\n",
      "| 1003216839| 89606.45999999999| 2890.530967741935|         30059.3|        1335|43.064516129032256|         160|            42568|1373.1612903225807|             4324|    Waterloo|   IA|        Komen|     Evans| Nurse Practitioner|\n",
      "| 1003228149|          12467.27| 542.0552173913044|          5682.6|         511|22.217391304347824|          65|            21169| 920.3913043478261|             3720|      Edmond|   OK|      Merrell|  Michelle| Nurse Practitioner|\n",
      "| 1003229147|3394.9500000000007|242.49642857142862|          701.09|         270|19.285714285714285|          34|            14070|            1005.0|             2130|   Galveston|   TX|       Pavela|     James|  Internal Medicine|\n",
      "| 1003229402|19630.130000000005|1033.1647368421054|        11077.33|         526| 27.68421052631579|          85|            21480|1130.5263157894738|             3596|     Chicago|   IL|   Elsharkawy|   Mohamed|    Family Practice|\n",
      "| 1003245457|12830.899999999996|346.78108108108097|         3451.98|         644|17.405405405405407|          41|            26557| 717.7567567567568|             2464|Philadelphia|   PA|        Tyson|   Vincent| Nurse Practitioner|\n",
      "| 1003276197| 4266.679999999999|266.66749999999996|          734.14|         349|           21.8125|          43|             9524|            595.25|             1530|   Frankfort|   MI|       Coffia|  Michaela| Nurse Practitioner|\n",
      "| 1003287806|             38.91|             38.91|           38.91|          15|              15.0|          15|               91|              91.0|               91|    New York|   NY|       Madden|     Kerri|Physician Assistant|\n",
      "+-----------+------------------+------------------+----------------+------------+------------------+------------+-----------------+------------------+-----------------+------------+-----+-------------+----------+-------------------+\n",
      "only showing top 20 rows\n",
      "\n"
     ]
    }
   ],
   "source": [
    "partD_allpd.show()"
   ]
  },
  {
   "cell_type": "code",
   "execution_count": 25,
   "metadata": {},
   "outputs": [
    {
     "data": {
      "text/plain": [
       "Row(Prscrbr_NPI='1003043209', sum_tot_drug_cst=39676.76, avg_tot_drug_cst=1202.3260606060608, max_tot_drug_cst=9329.51, sum_tot_clms=1170, avg_tot_clms=35.45454545454545, max_tot_clms=109, sum_tot_day_suply=44482, avg_tot_day_suply=1347.939393939394, max_tot_day_suply=5262, city='Lynn', state='MA', last_name='Affel', first_name='Marjorie', Speciality='Family Practice')"
      ]
     },
     "execution_count": 25,
     "metadata": {},
     "output_type": "execute_result"
    }
   ],
   "source": [
    "partD_allpd.head()"
   ]
  },
  {
   "cell_type": "markdown",
   "metadata": {},
   "source": [
    "Dataset loading from Google data storage bucket. The entire datasets are incorporating three sections: General Payment, Research Payment and Physician Ownership Details. Key Features: The whole of general installment, Name of medication related the installments."
   ]
  },
  {
   "cell_type": "code",
   "execution_count": 26,
   "metadata": {},
   "outputs": [
    {
     "name": "stdout",
     "output_type": "stream",
     "text": [
      "-rwx------   3 root root 6409783272 2023-05-04 01:50 gs://shreneel-bigdata1/OP_DTL_GNRL_PGYR2015_P01202023.csv\n",
      "root\n",
      " |-- Change_Type: string (nullable = true)\n",
      " |-- Covered_Recipient_Type: string (nullable = true)\n",
      " |-- Teaching_Hospital_CCN: integer (nullable = true)\n",
      " |-- Teaching_Hospital_ID: integer (nullable = true)\n",
      " |-- Teaching_Hospital_Name: string (nullable = true)\n",
      " |-- Physician_Profile_ID: integer (nullable = true)\n",
      " |-- Physician_NPI: integer (nullable = true)\n",
      " |-- Physician_First_Name: string (nullable = true)\n",
      " |-- Physician_Middle_Name: string (nullable = true)\n",
      " |-- Physician_Last_Name: string (nullable = true)\n",
      " |-- Physician_Name_Suffix: string (nullable = true)\n",
      " |-- Recipient_Primary_Business_Street_Address_Line1: string (nullable = true)\n",
      " |-- Recipient_Primary_Business_Street_Address_Line2: string (nullable = true)\n",
      " |-- Recipient_City: string (nullable = true)\n",
      " |-- Recipient_State: string (nullable = true)\n",
      " |-- Recipient_Zip_Code: string (nullable = true)\n",
      " |-- Recipient_Country: string (nullable = true)\n",
      " |-- Recipient_Province: string (nullable = true)\n",
      " |-- Recipient_Postal_Code: string (nullable = true)\n",
      " |-- Physician_Primary_Type: string (nullable = true)\n",
      " |-- Physician_Specialty: string (nullable = true)\n",
      " |-- Physician_License_State_code1: string (nullable = true)\n",
      " |-- Physician_License_State_code2: string (nullable = true)\n",
      " |-- Physician_License_State_code3: string (nullable = true)\n",
      " |-- Physician_License_State_code4: string (nullable = true)\n",
      " |-- Physician_License_State_code5: string (nullable = true)\n",
      " |-- Submitting_Applicable_Manufacturer_or_Applicable_GPO_Name: string (nullable = true)\n",
      " |-- Applicable_Manufacturer_or_Applicable_GPO_Making_Payment_ID: string (nullable = true)\n",
      " |-- Applicable_Manufacturer_or_Applicable_GPO_Making_Payment_Name: string (nullable = true)\n",
      " |-- Applicable_Manufacturer_or_Applicable_GPO_Making_Payment_State: string (nullable = true)\n",
      " |-- Applicable_Manufacturer_or_Applicable_GPO_Making_Payment_Country: string (nullable = true)\n",
      " |-- Total_Amount_of_Payment_USDollars: string (nullable = true)\n",
      " |-- Date_of_Payment: string (nullable = true)\n",
      " |-- Number_of_Payments_Included_in_Total_Amount: string (nullable = true)\n",
      " |-- Form_of_Payment_or_Transfer_of_Value: string (nullable = true)\n",
      " |-- Nature_of_Payment_or_Transfer_of_Value: string (nullable = true)\n",
      " |-- City_of_Travel: string (nullable = true)\n",
      " |-- State_of_Travel: string (nullable = true)\n",
      " |-- Country_of_Travel: string (nullable = true)\n",
      " |-- Physician_Ownership_Indicator: string (nullable = true)\n",
      " |-- Third_Party_Payment_Recipient_Indicator: string (nullable = true)\n",
      " |-- Name_of_Third_Party_Entity_Receiving_Payment_or_Transfer_of_Value: string (nullable = true)\n",
      " |-- Charity_Indicator: string (nullable = true)\n",
      " |-- Third_Party_Equals_Covered_Recipient_Indicator: string (nullable = true)\n",
      " |-- Contextual_Information: string (nullable = true)\n",
      " |-- Delay_in_Publication_Indicator: string (nullable = true)\n",
      " |-- Record_ID: string (nullable = true)\n",
      " |-- Dispute_Status_for_Publication: string (nullable = true)\n",
      " |-- Product_Indicator: string (nullable = true)\n",
      " |-- Name_of_Associated_Covered_Drug_or_Biological1: string (nullable = true)\n",
      " |-- Name_of_Associated_Covered_Drug_or_Biological2: string (nullable = true)\n",
      " |-- Name_of_Associated_Covered_Drug_or_Biological3: string (nullable = true)\n",
      " |-- Name_of_Associated_Covered_Drug_or_Biological4: string (nullable = true)\n",
      " |-- Name_of_Associated_Covered_Drug_or_Biological5: string (nullable = true)\n",
      " |-- NDC_of_Associated_Covered_Drug_or_Biological1: string (nullable = true)\n",
      " |-- NDC_of_Associated_Covered_Drug_or_Biological2: string (nullable = true)\n",
      " |-- NDC_of_Associated_Covered_Drug_or_Biological3: string (nullable = true)\n",
      " |-- NDC_of_Associated_Covered_Drug_or_Biological4: string (nullable = true)\n",
      " |-- NDC_of_Associated_Covered_Drug_or_Biological5: string (nullable = true)\n",
      " |-- Name_of_Associated_Covered_Device_or_Medical_Supply1: string (nullable = true)\n",
      " |-- Name_of_Associated_Covered_Device_or_Medical_Supply2: string (nullable = true)\n",
      " |-- Name_of_Associated_Covered_Device_or_Medical_Supply3: string (nullable = true)\n",
      " |-- Name_of_Associated_Covered_Device_or_Medical_Supply4: string (nullable = true)\n",
      " |-- Name_of_Associated_Covered_Device_or_Medical_Supply5: string (nullable = true)\n",
      " |-- Program_Year: string (nullable = true)\n",
      " |-- Payment_Publication_Date: string (nullable = true)\n",
      "\n"
     ]
    }
   ],
   "source": [
    "gcs_client = storage.Client()\n",
    "bucket = gcs_client.bucket('shreneel-bigdata1')\n",
    "\n",
    "list(bucket.list_blobs(prefix='OP_DTL_GNRL_PGYR2015_P01202023.csv'))\n",
    "!hdfs dfs -ls 'gs://shreneel-bigdata1/OP_DTL_GNRL_PGYR2015_P01202023.csv'\n",
    "payment_rawdata = spark \\\n",
    "  .read \\\n",
    "  .option ( \"inferSchema\" , \"true\" ) \\\n",
    "  .option ( \"header\" , \"true\" ) \\\n",
    "  .csv ( \"gs://shreneel-bigdata1/OP_DTL_GNRL_PGYR2015_P01202023.csv\" )\n",
    "\n",
    "payment_rawdata.printSchema()"
   ]
  },
  {
   "cell_type": "markdown",
   "metadata": {},
   "source": [
    "Selecting essential features from dataset, most importantly Total payemnt column"
   ]
  },
  {
   "cell_type": "code",
   "execution_count": 27,
   "metadata": {},
   "outputs": [],
   "source": [
    "from pyspark.sql.functions import col\n",
    "\n",
    "payment_fpd = payment_rawdata.select(col('Physician_First_Name'),\n",
    "                                 col('Physician_Last_Name'),\n",
    "                                 col('Recipient_City'),\n",
    "                                 col('Recipient_State'),\n",
    "                                 col('Total_Amount_of_Payment_USDollars'))\n"
   ]
  },
  {
   "cell_type": "code",
   "execution_count": 28,
   "metadata": {},
   "outputs": [
    {
     "data": {
      "text/plain": [
       "Row(Physician_First_Name='DAVID', Physician_Last_Name='GORDLEY', Recipient_City='SLIPPERY ROCK', Recipient_State='PA', Total_Amount_of_Payment_USDollars='60.00')"
      ]
     },
     "execution_count": 28,
     "metadata": {},
     "output_type": "execute_result"
    }
   ],
   "source": [
    "payment_fpd.head()"
   ]
  },
  {
   "cell_type": "code",
   "execution_count": null,
   "metadata": {},
   "outputs": [],
   "source": []
  },
  {
   "cell_type": "markdown",
   "metadata": {},
   "source": [
    "Bar graph showing total Payment recieved by doctors\n",
    "Pie graph is showing distribution of payments by state"
   ]
  },
  {
   "cell_type": "code",
   "execution_count": 29,
   "metadata": {},
   "outputs": [
    {
     "data": {
      "image/png": "[encoded data removed]",
      "text/plain": [
       "<Figure size 432x288 with 1 Axes>"
      ]
     },
     "metadata": {
      "needs_background": "light"
     },
     "output_type": "display_data"
    },
    {
     "data": {
      "image/png": "[encoded data removed]",
      "text/plain": [
       "<Figure size 432x288 with 1 Axes>"
      ]
     },
     "metadata": {},
     "output_type": "display_data"
    }
   ],
   "source": [
    "\n",
    "\n",
    "import matplotlib.pyplot as plt\n",
    "\n",
    "# Extract the top 10 rows from the DataFrame\n",
    "top_10_rows = payment_fpd.limit(10).toPandas()\n",
    "\n",
    "# Create a bar chart to visualize the total amount of payment for each physician\n",
    "plt.bar(x=top_10_rows['Physician_Last_Name'], height=top_10_rows['Total_Amount_of_Payment_USDollars'])\n",
    "plt.xlabel('Physician Last Name')\n",
    "plt.ylabel('Total Amount of Payment (USD)')\n",
    "plt.title('Top 10 Physicians by Total Amount of Payment')\n",
    "\n",
    "# Rotate the x-axis labels by 45 degrees\n",
    "plt.xticks(rotation=45)\n",
    "\n",
    "plt.show()\n",
    "\n",
    "# Create a pie chart to visualize the distribution of payments by state\n",
    "state_counts = top_10_rows['Recipient_State'].value_counts()\n",
    "plt.pie(x=state_counts.values, labels=state_counts.index)\n",
    "plt.title('Distribution of Payments by State')\n",
    "plt.show()\n"
   ]
  },
  {
   "cell_type": "code",
   "execution_count": 30,
   "metadata": {},
   "outputs": [
    {
     "data": {
      "text/plain": [
       "11572091"
      ]
     },
     "execution_count": 30,
     "metadata": {},
     "output_type": "execute_result"
    }
   ],
   "source": [
    "payment_fpd.count()"
   ]
  },
  {
   "cell_type": "markdown",
   "metadata": {},
   "source": [
    "Performing grouping and using agg() function to check the total payment sum in USD"
   ]
  },
  {
   "cell_type": "code",
   "execution_count": 31,
   "metadata": {},
   "outputs": [],
   "source": [
    "from pyspark.sql.functions import sum\n",
    "\n",
    "payment_fpd1 = payment_fpd.groupby(['Physician_First_Name', 'Physician_Last_Name', 'Recipient_City', 'Recipient_State']) \\\n",
    "                         .agg(sum('Total_Amount_of_Payment_USDollars').alias('Total_Amount_of_Payment_USDollars_sum'))"
   ]
  },
  {
   "cell_type": "code",
   "execution_count": 32,
   "metadata": {},
   "outputs": [
    {
     "name": "stdout",
     "output_type": "stream",
     "text": [
      "+--------------------+-------------------+--------------+---------------+-------------------------------------+\n",
      "|Physician_First_Name|Physician_Last_Name|Recipient_City|Recipient_State|Total_Amount_of_Payment_USDollars_sum|\n",
      "+--------------------+-------------------+--------------+---------------+-------------------------------------+\n",
      "|               HARRY|               TAMM|       PHOENIX|             AZ|                    2793.359999999999|\n",
      "|              DANIEL|               ROTH|    FORT WAYNE|             IN|                             49565.61|\n",
      "|              DONALD|            SLAPPEY|    BIRMINGHAM|             AL|                    97.47000000000001|\n",
      "|             SHAHEEN|            JAWAHAR|         TRACY|             CA|                    654.0300000000001|\n",
      "|         CHRISTOPHER|           VENDRYES|         MIAMI|             FL|                              3468.51|\n",
      "|                JOHN|      SATTERTHWAITE|    GREENVILLE|             SC|                               114.31|\n",
      "|                JOHN|               JOHN|       KINSTON|             NC|                   1839.9800000000002|\n",
      "|                JOHN|             DAURIA|     BRADENTON|             FL|                                338.4|\n",
      "|             JIENSUP|                KIM|        COLTON|             CA|                   1426.7999999999997|\n",
      "|              THOMAS|           LOZOWSKI|    TOMS RIVER|             NJ|                              2464.85|\n",
      "|                 RAE|              DAVIS|     LANSDOWNE|             VA|                    662.4999999999999|\n",
      "|              UPLEKH|            PUREWAL|  PHILADELPHIA|             PA|                             18067.07|\n",
      "|              AUDREY|     LEWERENZ-WALSH|     BRADENTON|             FL|                               512.06|\n",
      "|             VINCENT|           THOMPSON|     LANGHORNE|             PA|                   1002.0000000000001|\n",
      "|              ROBERT|           WILLIAMS|           OPP|             AL|                                288.4|\n",
      "|               JAMES|             WRIGHT|  LAKE VILLAGE|             AR|                                 66.7|\n",
      "|                 JOB|            MONGARE|        ATHENS|             TX|                               781.51|\n",
      "|              MIKHAL|             MONSON|     CLEVELAND|             OH|                                12.38|\n",
      "|             RICHARD|             HARRIS|        SPARKS|             NV|                                30.32|\n",
      "|              KURTIS|             HOLMES|        FRUITA|             CO|                   467.21999999999997|\n",
      "+--------------------+-------------------+--------------+---------------+-------------------------------------+\n",
      "only showing top 20 rows\n",
      "\n"
     ]
    }
   ],
   "source": [
    "payment_fpd1.show()"
   ]
  },
  {
   "cell_type": "markdown",
   "metadata": {},
   "source": [
    "Renaming the column names to seamless use with other datasets"
   ]
  },
  {
   "cell_type": "code",
   "execution_count": 33,
   "metadata": {},
   "outputs": [],
   "source": [
    "from pyspark.sql.functions import col\n",
    "\n",
    "rename_dict = {'Physician_First_Name':'first_name', 'Physician_Last_Name':'last_name', 'Recipient_City':'city', 'Recipient_State':'state', 'Total_Amount_of_Payment_USDollars_sum':'Total_Payment_Sum'}\n",
    "\n",
    "payment_fpd1 = payment_fpd1.select([col(c).alias(rename_dict.get(c, c)) for c in payment_fpd1.columns])\n"
   ]
  },
  {
   "cell_type": "code",
   "execution_count": 34,
   "metadata": {},
   "outputs": [
    {
     "name": "stdout",
     "output_type": "stream",
     "text": [
      "+----------+----------+----------------+-----+------------------+\n",
      "|first_name| last_name|            city|state| Total_Payment_Sum|\n",
      "+----------+----------+----------------+-----+------------------+\n",
      "|JACQUELINE| GUERRIERO|    WILKES BARRE|   PA|             17.41|\n",
      "|   BRADLEY|  BENGTSON|    GRAND RAPIDS|   MI|118854.28000000003|\n",
      "|    WALTER|     BORIS|    BROWNS MILLS|   NJ|375.45000000000005|\n",
      "|     PETER|   PANTERA|      FORT MYERS|   FL| 550.0300000000001|\n",
      "|      PAUL|     SCOTT|          TACOMA|   WA|            142.92|\n",
      "|     Karin|     Quick|     Minneapolis|   MN|             11.29|\n",
      "|   CHARLES|   FLOWERS|        COLUMBIA|   SC|1500.6100000000001|\n",
      "|      MARK|    NADLER|        DANVILLE|   CA|             326.4|\n",
      "|     HEATH| BROUSSARD|         JACKSON|   TN| 53771.90999999999|\n",
      "|    STEVEN|      PARK|      CINCINNATI|   OH|            424.86|\n",
      "|     KEITH|      BUHL|    PHILADELPHIA|   PA|             761.6|\n",
      "|   ANTHONY|      ROSA|    PHILADELPHIA|   PA|             72.05|\n",
      "|    Steven| Mardjetko|    Morton Grove|   IL|              82.9|\n",
      "|    DONALD|      MANN|           HURON|   SD|             84.49|\n",
      "|     DAVID|    HOOVER|           OMAHA|   NE|             100.0|\n",
      "|    RONALD|    FISHER|         HANCOCK|   MI|              37.0|\n",
      "|    JUSTIN|OBERDORFER|       MENOMINEE|   MI|              37.0|\n",
      "|     ANTON|   PIANTEK|         SHAWANO|   WI|              37.0|\n",
      "|   RICHARD|  LAGERMAN|       SHOREWOOD|   WI|             34.77|\n",
      "|    Howard|    Gordon|Briarcliff Manor|   NY|             23.78|\n",
      "+----------+----------+----------------+-----+------------------+\n",
      "only showing top 20 rows\n",
      "\n"
     ]
    }
   ],
   "source": [
    "payment_fpd1.show()"
   ]
  },
  {
   "cell_type": "markdown",
   "metadata": {},
   "source": [
    "Sorting the dataset in descending order"
   ]
  },
  {
   "cell_type": "code",
   "execution_count": 35,
   "metadata": {},
   "outputs": [],
   "source": [
    "from pyspark.sql.functions import desc\n",
    "\n",
    "payment_fpd2 = payment_fpd1.sort(desc('Total_Payment_Sum'))"
   ]
  },
  {
   "cell_type": "code",
   "execution_count": 36,
   "metadata": {},
   "outputs": [
    {
     "name": "stdout",
     "output_type": "stream",
     "text": [
      "+----------+---------+-----------------+-----+--------------------+\n",
      "|first_name|last_name|             city|state|   Total_Payment_Sum|\n",
      "+----------+---------+-----------------+-----+--------------------+\n",
      "|      null|     null|           DUARTE|   CA|      3.0654182569E8|\n",
      "|      null|     null|           BOSTON|   MA|       4.200212036E7|\n",
      "|     ROGER|  JACKSON|NORTH KANSAS CITY|   MO|       3.450708545E7|\n",
      "|      null|     null|           Boston|   MA|       2.076668303E7|\n",
      "|   STEPHEN| BURKHART|      SAN ANTONIO|   TX|1.9421951320000004E7|\n",
      "|      null|     null|        Rochester|   NY|        1.93059828E7|\n",
      "|     KEVIN|    FOLEY|          Memphis|   TN| 1.782763144999999E7|\n",
      "|      null|     null|        Cleveland|   OH|1.4486272639999999E7|\n",
      "|      YVES|    GOBIN|         New York|   NY|1.2962521479999999E7|\n",
      "|      null|     null|            PHILA|   PA|       1.157290884E7|\n",
      "|    RODNEY|    RAABE|          Spokane|   WA|1.0414841879999999E7|\n",
      "|      null|     null|      Little Rock|   AR|1.0274209679999998E7|\n",
      "|      null|     null|     PHILADELPHIA|   PA|1.0260102440000001E7|\n",
      "|      MARK|  HUMAYUN|      LOS ANGELES|   CA|   8314314.300000001|\n",
      "|   GREGORY|    PEARL|           DALLAS|   TX|  7936496.0200000005|\n",
      "|      null|     null|          Houston|   TX|           7129585.6|\n",
      "|      null|     null|      LOS ANGELES|   CA|  6942171.4300000025|\n",
      "|      null|     null|      Los Angeles|   CA|          6926090.95|\n",
      "|      null|     null|           DENVER|   CO|   6719416.540000001|\n",
      "|      null|     null|          HOUSTON|   TX|          6706036.03|\n",
      "+----------+---------+-----------------+-----+--------------------+\n",
      "only showing top 20 rows\n",
      "\n"
     ]
    }
   ],
   "source": [
    "payment_fpd2.show()"
   ]
  },
  {
   "cell_type": "markdown",
   "metadata": {},
   "source": [
    "Joining the dataset using left join"
   ]
  },
  {
   "cell_type": "code",
   "execution_count": 37,
   "metadata": {},
   "outputs": [],
   "source": [
    "pay_partD_fpd = partD_allpd.join(payment_fpd2, ['last_name', 'first_name', 'city', 'state'], how='left')\n"
   ]
  },
  {
   "cell_type": "code",
   "execution_count": 38,
   "metadata": {},
   "outputs": [
    {
     "name": "stdout",
     "output_type": "stream",
     "text": [
      "+---------+----------+----------------+-----+-----------+------------------+------------------+----------------+------------+------------------+------------+-----------------+------------------+-----------------+--------------------+------------------+\n",
      "|last_name|first_name|            city|state|Prscrbr_NPI|  sum_tot_drug_cst|  avg_tot_drug_cst|max_tot_drug_cst|sum_tot_clms|      avg_tot_clms|max_tot_clms|sum_tot_day_suply| avg_tot_day_suply|max_tot_day_suply|          Speciality| Total_Payment_Sum|\n",
      "+---------+----------+----------------+-----+-----------+------------------+------------------+----------------+------------+------------------+------------+-----------------+------------------+-----------------+--------------------+------------------+\n",
      "|   Abbott|     Laura|   San Francisco|   CA| 1093071367|          16670.63| 5556.876666666667|         9978.51|          65|21.666666666666668|          35|             6923|2307.6666666666665|             5003|Student in an Org...|              null|\n",
      "| Abdullah|   Juveria|     Los Angeles|   CA| 1710229281|             71.55|             71.55|           71.55|          15|              15.0|          15|              450|             450.0|              450|   Internal Medicine|              null|\n",
      "| Abraksia|     Samir|       Beachwood|   OH| 1275638199|1300524.4200000002|48167.571111111116|       560482.86|        1018|  37.7037037037037|         144|            37423| 1386.037037037037|             8125| Hematology-Oncology|              null|\n",
      "|   Abrams|    Rachel|      Santa Cruz|   CA| 1578542171|3147.7999999999997|393.47499999999997|           712.0|         154|             19.25|          28|             6795|           849.375|             1590|     Family Practice|              null|\n",
      "|    Abrol| Rajeshwar|         Tomball|   TX| 1447258108| 79439.06999999999| 3782.812857142857|        19201.27|         685| 32.61904761904762|         133|            30594| 1456.857142857143|             7590|    Gastroenterology|              null|\n",
      "|   Abuloc|   Timonet|         Garland|   TX| 1548427156| 80965.50999999998|1619.3101999999997|         19299.3|        1165|              23.3|          80|            62750|            1255.0|             4276|  Nurse Practitioner|              null|\n",
      "| Acharjee|   Subroto|  Merritt Island|   FL| 1447482070|              98.8|              98.8|            98.8|          12|              12.0|          12|              540|             540.0|              540|Interventional Ca...|              null|\n",
      "|   Acosta| Christine|        Kingwood|   TX| 1194897231|           6313.72|           6313.72|         6313.72|          11|              11.0|          11|              450|             450.0|              450|           Optometry|              null|\n",
      "|  Adamich|    Thomas|Huntington Beach|   CA| 1063579670|            140.65|            140.65|          140.65|          20|              20.0|          20|              190|             190.0|              190|             Dentist|              null|\n",
      "|    Adams|   Cynthia|         Lubbock|   TX| 1780742536|           3375.85|1125.2833333333333|         2639.98|          38|12.666666666666666|          15|              901| 300.3333333333333|              330|  Nurse Practitioner|              null|\n",
      "|    Adams|     David|      Charleston|   SC| 1467566968|         403402.49|57628.927142857145|       378996.97|         141|20.142857142857142|          32|             3379| 482.7142857142857|              632|     General Surgery|              null|\n",
      "|    Adams|    Gareth|   The Woodlands|   TX| 1750611158|            621.38|            310.69|          490.53|          45|              22.5|          31|              838|             419.0|              421|        Neurosurgery|              null|\n",
      "|    Adams|      Lynn|Rockville Centre|   NY| 1396884656|130200.26999999999|14466.696666666665|       123041.98|         157|17.444444444444443|          43|             3202|355.77777777777777|             1285|  Nurse Practitioner|              null|\n",
      "|    Adams|    Robert|      Wilmington|   NC| 1275693517|121465.91999999995| 3470.454857142856|         26280.0|         827| 23.62857142857143|          59|            28850| 824.2857142857143|             2370|          Psychiatry|             47.28|\n",
      "|    Adams|   Stephen|     Chattanooga|   TN| 1598701674|          45233.53| 793.5707017543859|         8461.12|        1592| 27.92982456140351|          95|            91522|1605.6491228070176|             5256|     Family Practice|              null|\n",
      "|    Adams|     Susan|      Florissant|   MO| 1871584474| 558393.5300000003| 3579.445705128207|        59244.83|       10938| 70.11538461538461|         734|           713079|4571.0192307692305|            59546|   Internal Medicine|             70.26|\n",
      "|    Adcox|   Micheal|           Boise|   ID| 1851345193|347232.69999999995| 6313.321818181817|       138676.64|        2135| 38.81818181818182|         136|           112492|2045.3090909090909|             9219|          Nephrology|              null|\n",
      "|Addington|     James|        Columbus|   OH| 1467741082| 834.6800000000001|417.34000000000003|          484.18|          35|              17.5|          19|             1050|             525.0|              570|           Neurology|              null|\n",
      "| Adedotun| Oluyemisi|          Eureka|   NV| 1629393632|1221.0000000000002|135.66666666666669|          282.24|         155| 17.22222222222222|          31|             5342| 593.5555555555555|              930|  Nurse Practitioner|              null|\n",
      "|  Adelola| Olubukola|           Logan|   OH| 1952614851|489953.32000000007| 3711.767575757576|        38844.95|        6814|51.621212121212125|         396|           268571| 2034.628787878788|            16287|     Family Practice|42.400000000000006|\n",
      "+---------+----------+----------------+-----+-----------+------------------+------------------+----------------+------------+------------------+------------+-----------------+------------------+-----------------+--------------------+------------------+\n",
      "only showing top 20 rows\n",
      "\n"
     ]
    }
   ],
   "source": [
    "pay_partD_fpd.show()"
   ]
  },
  {
   "cell_type": "markdown",
   "metadata": {},
   "source": [
    "Importing the dataset from google data storage. Information on dataset: This database contains a rundown of people and substances that are prohibited from taking an interest in governmentally financed social insurance programs (for example Medicare) because of past medicinal services extortion. We could treat the LEIE dataset as the semi-named information, on the grounds that LEIE is the fraudster-based objective however not a misrepresentation one."
   ]
  },
  {
   "cell_type": "code",
   "execution_count": 39,
   "metadata": {},
   "outputs": [
    {
     "name": "stdout",
     "output_type": "stream",
     "text": [
      "-rwx------   3 root root   13969086 2023-05-04 01:25 gs://shreneel-bigdata1/UPDATED.csv\n",
      "root\n",
      " |-- LASTNAME: string (nullable = true)\n",
      " |-- FIRSTNAME: string (nullable = true)\n",
      " |-- MIDNAME: string (nullable = true)\n",
      " |-- BUSNAME: string (nullable = true)\n",
      " |-- GENERAL: string (nullable = true)\n",
      " |-- SPECIALTY: string (nullable = true)\n",
      " |-- UPIN: string (nullable = true)\n",
      " |-- NPI: integer (nullable = true)\n",
      " |-- DOB: integer (nullable = true)\n",
      " |-- ADDRESS: string (nullable = true)\n",
      " |-- CITY: string (nullable = true)\n",
      " |-- STATE: string (nullable = true)\n",
      " |-- ZIP: string (nullable = true)\n",
      " |-- EXCLTYPE: string (nullable = true)\n",
      " |-- EXCLDATE: string (nullable = true)\n",
      " |-- REINDATE: integer (nullable = true)\n",
      " |-- WAIVERDATE: integer (nullable = true)\n",
      " |-- WVRSTATE: string (nullable = true)\n",
      "\n"
     ]
    }
   ],
   "source": [
    "gcs_client = storage.Client()\n",
    "bucket = gcs_client.bucket('shreneel-bigdata1')\n",
    "\n",
    "list(bucket.list_blobs(prefix='UPDATED.csv'))\n",
    "!hdfs dfs -ls 'gs://shreneel-bigdata1/UPDATED.csv'\n",
    "IELE_rawdata = spark \\\n",
    "  .read \\\n",
    "  .option ( \"inferSchema\" , \"true\" ) \\\n",
    "  .option ( \"header\" , \"true\" ) \\\n",
    "  .csv ( \"gs://shreneel-bigdata1/UPDATED.csv\" )\n",
    "\n",
    "IELE_rawdata.printSchema()  "
   ]
  },
  {
   "cell_type": "markdown",
   "metadata": {},
   "source": [
    "Selecting the column which contains the npi of insurance abusers"
   ]
  },
  {
   "cell_type": "code",
   "execution_count": 40,
   "metadata": {},
   "outputs": [
    {
     "name": "stdout",
     "output_type": "stream",
     "text": [
      "+----------+--------+\n",
      "|       NPI|EXCLTYPE|\n",
      "+----------+--------+\n",
      "|         0|  1128a1|\n",
      "|1972902351|  1128b8|\n",
      "|         0|  1128a1|\n",
      "|         0|  1128b7|\n",
      "|1922348218|  1128a1|\n",
      "|         0|  1128b5|\n",
      "|         0|  1128a1|\n",
      "|         0|  1128b8|\n",
      "|         0|  1128a1|\n",
      "|         0|  1128b8|\n",
      "|         0|  1128b5|\n",
      "|         0|  1128a1|\n",
      "|         0|  1128b8|\n",
      "|         0|  1128a1|\n",
      "|         0|  1128a1|\n",
      "|         0|  1128b4|\n",
      "|         0|  1128a1|\n",
      "|         0|  1128b8|\n",
      "|         0|  1128a1|\n",
      "|         0|  1128a1|\n",
      "+----------+--------+\n",
      "only showing top 20 rows\n",
      "\n"
     ]
    }
   ],
   "source": [
    "npifraud_pd0 = IELE_rawdata.select('NPI', 'EXCLTYPE')\n",
    "npifraud_pd0.show()"
   ]
  },
  {
   "cell_type": "code",
   "execution_count": 41,
   "metadata": {},
   "outputs": [],
   "source": [
    "from pyspark.sql.functions import col\n",
    "\n",
    "\n",
    "npifraud_pd1 = npifraud_pd0.filter(col('NPI') != 0)\n"
   ]
  },
  {
   "cell_type": "code",
   "execution_count": 42,
   "metadata": {},
   "outputs": [
    {
     "name": "stdout",
     "output_type": "stream",
     "text": [
      "+----------+---------+\n",
      "|       NPI| EXCLTYPE|\n",
      "+----------+---------+\n",
      "|1972902351|   1128b8|\n",
      "|1922348218|   1128a1|\n",
      "|1942476080|   1128b8|\n",
      "|1275600959|   1128a1|\n",
      "|1891731758|   1128b8|\n",
      "|1265830335|   1128a1|\n",
      "|1851631543|   1128b7|\n",
      "|1902198435|   1128a1|\n",
      "|1073916631|   1128b7|\n",
      "|1073682936|1128b7   |\n",
      "|1902166028|   1128b8|\n",
      "|1992906937|   1128b8|\n",
      "|1104947944|   1128a1|\n",
      "|1164669479|   1128a1|\n",
      "|1043302250|   1128a1|\n",
      "|1801231436|1128a1   |\n",
      "|1912011800|   1128b8|\n",
      "|1780812768|   1128b7|\n",
      "|1447560867|   1128b8|\n",
      "|1790963460|   1128b7|\n",
      "+----------+---------+\n",
      "only showing top 20 rows\n",
      "\n"
     ]
    }
   ],
   "source": [
    "npifraud_pd1.show()"
   ]
  },
  {
   "cell_type": "code",
   "execution_count": 43,
   "metadata": {},
   "outputs": [],
   "source": [
    "rename_dict = {'NPI':'Prscrbr_NPI', 'EXCLTYPE':'is_fraud'}\n",
    "\n",
    "npi_fraud_pd = npifraud_pd1.select([col(c).alias(rename_dict.get(c, c)) for c in npifraud_pd1.columns])\n"
   ]
  },
  {
   "cell_type": "code",
   "execution_count": 44,
   "metadata": {},
   "outputs": [],
   "source": [
    "#pip install graphframes"
   ]
  },
  {
   "cell_type": "code",
   "execution_count": null,
   "metadata": {},
   "outputs": [],
   "source": []
  },
  {
   "cell_type": "code",
   "execution_count": 45,
   "metadata": {},
   "outputs": [
    {
     "name": "stdout",
     "output_type": "stream",
     "text": [
      "+-----------+---------+\n",
      "|Prscrbr_NPI| is_fraud|\n",
      "+-----------+---------+\n",
      "| 1972902351|   1128b8|\n",
      "| 1922348218|   1128a1|\n",
      "| 1942476080|   1128b8|\n",
      "| 1275600959|   1128a1|\n",
      "| 1891731758|   1128b8|\n",
      "| 1265830335|   1128a1|\n",
      "| 1851631543|   1128b7|\n",
      "| 1902198435|   1128a1|\n",
      "| 1073916631|   1128b7|\n",
      "| 1073682936|1128b7   |\n",
      "| 1902166028|   1128b8|\n",
      "| 1992906937|   1128b8|\n",
      "| 1104947944|   1128a1|\n",
      "| 1164669479|   1128a1|\n",
      "| 1043302250|   1128a1|\n",
      "| 1801231436|1128a1   |\n",
      "| 1912011800|   1128b8|\n",
      "| 1780812768|   1128b7|\n",
      "| 1447560867|   1128b8|\n",
      "| 1790963460|   1128b7|\n",
      "+-----------+---------+\n",
      "only showing top 20 rows\n",
      "\n"
     ]
    }
   ],
   "source": [
    "npi_fraud_pd.show()"
   ]
  },
  {
   "cell_type": "markdown",
   "metadata": {},
   "source": [
    "creating is_fraud and adding 1 to that column so in future can become binary"
   ]
  },
  {
   "cell_type": "code",
   "execution_count": 46,
   "metadata": {},
   "outputs": [],
   "source": [
    "from pyspark.sql.functions import lit\n",
    "\n",
    "npi_fraud_pd = npi_fraud_pd.withColumn('is_fraud', lit(1))\n"
   ]
  },
  {
   "cell_type": "code",
   "execution_count": 47,
   "metadata": {},
   "outputs": [
    {
     "name": "stdout",
     "output_type": "stream",
     "text": [
      "+-----------+--------+\n",
      "|Prscrbr_NPI|is_fraud|\n",
      "+-----------+--------+\n",
      "| 1972902351|       1|\n",
      "| 1922348218|       1|\n",
      "| 1942476080|       1|\n",
      "| 1275600959|       1|\n",
      "| 1891731758|       1|\n",
      "| 1265830335|       1|\n",
      "| 1851631543|       1|\n",
      "| 1902198435|       1|\n",
      "| 1073916631|       1|\n",
      "| 1073682936|       1|\n",
      "| 1902166028|       1|\n",
      "| 1992906937|       1|\n",
      "| 1104947944|       1|\n",
      "| 1164669479|       1|\n",
      "| 1043302250|       1|\n",
      "| 1801231436|       1|\n",
      "| 1912011800|       1|\n",
      "| 1780812768|       1|\n",
      "| 1447560867|       1|\n",
      "| 1790963460|       1|\n",
      "+-----------+--------+\n",
      "only showing top 20 rows\n",
      "\n"
     ]
    }
   ],
   "source": [
    "npi_fraud_pd.show()"
   ]
  },
  {
   "cell_type": "code",
   "execution_count": 48,
   "metadata": {},
   "outputs": [
    {
     "name": "stdout",
     "output_type": "stream",
     "text": [
      "[('Prscrbr_NPI', 'int'), ('is_fraud', 'int')]\n"
     ]
    }
   ],
   "source": [
    "print(npi_fraud_pd.dtypes)\n"
   ]
  },
  {
   "cell_type": "markdown",
   "metadata": {},
   "source": [
    "Joining the is_fraud column to the rest of the selected dataset"
   ]
  },
  {
   "cell_type": "code",
   "execution_count": 49,
   "metadata": {},
   "outputs": [
    {
     "name": "stdout",
     "output_type": "stream",
     "text": [
      "+-----------+---------+----------+----------------+-----+------------------+------------------+----------------+------------+------------------+------------+-----------------+------------------+-----------------+--------------------+------------------+--------+\n",
      "|Prscrbr_NPI|last_name|first_name|            city|state|  sum_tot_drug_cst|  avg_tot_drug_cst|max_tot_drug_cst|sum_tot_clms|      avg_tot_clms|max_tot_clms|sum_tot_day_suply| avg_tot_day_suply|max_tot_day_suply|          Speciality| Total_Payment_Sum|is_fraud|\n",
      "+-----------+---------+----------+----------------+-----+------------------+------------------+----------------+------------+------------------+------------+-----------------+------------------+-----------------+--------------------+------------------+--------+\n",
      "| 1093071367|   Abbott|     Laura|   San Francisco|   CA|          16670.63| 5556.876666666667|         9978.51|          65|21.666666666666668|          35|             6923|2307.6666666666665|             5003|Student in an Org...|              null|    null|\n",
      "| 1710229281| Abdullah|   Juveria|     Los Angeles|   CA|             71.55|             71.55|           71.55|          15|              15.0|          15|              450|             450.0|              450|   Internal Medicine|              null|    null|\n",
      "| 1275638199| Abraksia|     Samir|       Beachwood|   OH|1300524.4200000002|48167.571111111116|       560482.86|        1018|  37.7037037037037|         144|            37423| 1386.037037037037|             8125| Hematology-Oncology|              null|    null|\n",
      "| 1578542171|   Abrams|    Rachel|      Santa Cruz|   CA|3147.7999999999997|393.47499999999997|           712.0|         154|             19.25|          28|             6795|           849.375|             1590|     Family Practice|              null|    null|\n",
      "| 1447258108|    Abrol| Rajeshwar|         Tomball|   TX| 79439.06999999999| 3782.812857142857|        19201.27|         685| 32.61904761904762|         133|            30594| 1456.857142857143|             7590|    Gastroenterology|              null|    null|\n",
      "| 1548427156|   Abuloc|   Timonet|         Garland|   TX| 80965.50999999998|1619.3101999999997|         19299.3|        1165|              23.3|          80|            62750|            1255.0|             4276|  Nurse Practitioner|              null|    null|\n",
      "| 1447482070| Acharjee|   Subroto|  Merritt Island|   FL|              98.8|              98.8|            98.8|          12|              12.0|          12|              540|             540.0|              540|Interventional Ca...|              null|    null|\n",
      "| 1194897231|   Acosta| Christine|        Kingwood|   TX|           6313.72|           6313.72|         6313.72|          11|              11.0|          11|              450|             450.0|              450|           Optometry|              null|    null|\n",
      "| 1063579670|  Adamich|    Thomas|Huntington Beach|   CA|            140.65|            140.65|          140.65|          20|              20.0|          20|              190|             190.0|              190|             Dentist|              null|    null|\n",
      "| 1780742536|    Adams|   Cynthia|         Lubbock|   TX|           3375.85|1125.2833333333333|         2639.98|          38|12.666666666666666|          15|              901| 300.3333333333333|              330|  Nurse Practitioner|              null|    null|\n",
      "| 1467566968|    Adams|     David|      Charleston|   SC|         403402.49|57628.927142857145|       378996.97|         141|20.142857142857142|          32|             3379| 482.7142857142857|              632|     General Surgery|              null|    null|\n",
      "| 1750611158|    Adams|    Gareth|   The Woodlands|   TX|            621.38|            310.69|          490.53|          45|              22.5|          31|              838|             419.0|              421|        Neurosurgery|              null|    null|\n",
      "| 1396884656|    Adams|      Lynn|Rockville Centre|   NY|130200.26999999999|14466.696666666665|       123041.98|         157|17.444444444444443|          43|             3202|355.77777777777777|             1285|  Nurse Practitioner|              null|    null|\n",
      "| 1275693517|    Adams|    Robert|      Wilmington|   NC|121465.91999999995| 3470.454857142856|         26280.0|         827| 23.62857142857143|          59|            28850| 824.2857142857143|             2370|          Psychiatry|             47.28|    null|\n",
      "| 1598701674|    Adams|   Stephen|     Chattanooga|   TN|          45233.53| 793.5707017543859|         8461.12|        1592| 27.92982456140351|          95|            91522|1605.6491228070176|             5256|     Family Practice|              null|    null|\n",
      "| 1871584474|    Adams|     Susan|      Florissant|   MO| 558393.5300000003| 3579.445705128207|        59244.83|       10938| 70.11538461538461|         734|           713079|4571.0192307692305|            59546|   Internal Medicine|             70.26|    null|\n",
      "| 1851345193|    Adcox|   Micheal|           Boise|   ID|347232.69999999995| 6313.321818181817|       138676.64|        2135| 38.81818181818182|         136|           112492|2045.3090909090909|             9219|          Nephrology|              null|    null|\n",
      "| 1467741082|Addington|     James|        Columbus|   OH| 834.6800000000001|417.34000000000003|          484.18|          35|              17.5|          19|             1050|             525.0|              570|           Neurology|              null|    null|\n",
      "| 1629393632| Adedotun| Oluyemisi|          Eureka|   NV|1221.0000000000002|135.66666666666669|          282.24|         155| 17.22222222222222|          31|             5342| 593.5555555555555|              930|  Nurse Practitioner|              null|    null|\n",
      "| 1952614851|  Adelola| Olubukola|           Logan|   OH|489953.32000000007| 3711.767575757576|        38844.95|        6814|51.621212121212125|         396|           268571| 2034.628787878788|            16287|     Family Practice|42.400000000000006|    null|\n",
      "+-----------+---------+----------+----------------+-----+------------------+------------------+----------------+------------+------------------+------------+-----------------+------------------+-----------------+--------------------+------------------+--------+\n",
      "only showing top 20 rows\n",
      "\n"
     ]
    }
   ],
   "source": [
    "Features_pd1 = pay_partD_fpd.join(npi_fraud_pd, ['Prscrbr_NPI'], how='left')\n",
    "Features_pd1.show()"
   ]
  },
  {
   "cell_type": "code",
   "execution_count": 50,
   "metadata": {},
   "outputs": [
    {
     "name": "stdout",
     "output_type": "stream",
     "text": [
      "+-------+-------------------+-----------+----------+------+------+------------------+------------------+------------------+------------------+------------------+-----------------+------------------+------------------+------------------+----------------+-----------------+--------+\n",
      "|summary|        Prscrbr_NPI|  last_name|first_name|  city| state|  sum_tot_drug_cst|  avg_tot_drug_cst|  max_tot_drug_cst|      sum_tot_clms|      avg_tot_clms|     max_tot_clms| sum_tot_day_suply| avg_tot_day_suply| max_tot_day_suply|      Speciality|Total_Payment_Sum|is_fraud|\n",
      "+-------+-------------------+-----------+----------+------+------+------------------+------------------+------------------+------------------+------------------+-----------------+------------------+------------------+------------------+----------------+-----------------+--------+\n",
      "|  count|             893173|     893173|    893165|893173|893173|            893173|            893173|            893173|            893173|            893173|           893173|            893173|            893173|            893173|          893173|           120052|    1140|\n",
      "|   mean|1.499824340393665E9|       null|      null| 612.0|  null|124095.37574388168|3595.5598487573534|32727.610132605863|1442.6657903899916|33.172806156611834|142.6413751871138| 60939.21357004746|1117.2608397149252|6184.5712163265125|            null|769.9191983473828|     1.0|\n",
      "| stddev| 2.87863595699132E8|       null|      null|   NaN|  null|342799.07853682246|18154.489895529456|126480.07757068405|3317.0039345166106| 25.91225632276437|244.1694612427987|134718.28139898408|1244.4010659555329|10917.456164573054|            null|9035.048215575853|     0.0|\n",
      "|    min|         1003000126|     &h's)u| &e'k:(A:i| 00612|    AA|               0.0|               0.0|               0.0|                11|              11.0|               11|                11|              11.0|                11|   Acupuncturist|             0.03|       1|\n",
      "|    max|         1992999882|Zziwambazza|      Zyra|Zwolle|    ZZ|     1.904894932E7|        4958809.93|     1.014974956E7|            323252| 2266.222222222222|            24845|           4715546|          103890.0|            438319|Vascular Surgery|        1131692.3|       1|\n",
      "+-------+-------------------+-----------+----------+------+------+------------------+------------------+------------------+------------------+------------------+-----------------+------------------+------------------+------------------+----------------+-----------------+--------+\n",
      "\n"
     ]
    }
   ],
   "source": [
    "Features_pd1.describe().show()"
   ]
  },
  {
   "cell_type": "markdown",
   "metadata": {},
   "source": [
    "FIlling all na values with 0"
   ]
  },
  {
   "cell_type": "code",
   "execution_count": 51,
   "metadata": {},
   "outputs": [],
   "source": [
    "Features_pd1 = Features_pd1.fillna(0)"
   ]
  },
  {
   "cell_type": "code",
   "execution_count": 52,
   "metadata": {},
   "outputs": [
    {
     "data": {
      "text/plain": [
       "DataFrame[Prscrbr_NPI: string, last_name: string, first_name: string, city: string, state: string, sum_tot_drug_cst: double, avg_tot_drug_cst: double, max_tot_drug_cst: double, sum_tot_clms: bigint, avg_tot_clms: double, max_tot_clms: int, sum_tot_day_suply: bigint, avg_tot_day_suply: double, max_tot_day_suply: int, Speciality: string, Total_Payment_Sum: double, is_fraud: int]"
      ]
     },
     "execution_count": 52,
     "metadata": {},
     "output_type": "execute_result"
    }
   ],
   "source": [
    "Features_pd1"
   ]
  },
  {
   "cell_type": "markdown",
   "metadata": {},
   "source": [
    "Creating a bar graph to display the cities with the most fraud"
   ]
  },
  {
   "cell_type": "code",
   "execution_count": 53,
   "metadata": {},
   "outputs": [
    {
     "data": {
      "image/png": "[encoded data removed]",
      "text/plain": [
       "<Figure size 432x288 with 1 Axes>"
      ]
     },
     "metadata": {
      "needs_background": "light"
     },
     "output_type": "display_data"
    }
   ],
   "source": [
    "import matplotlib.pyplot as plt\n",
    "from pyspark.sql.functions import col\n",
    "\n",
    "# Filter the fraud data where is_fraud = 1\n",
    "fraud_cities = Features_pd1.filter(col(\"is_fraud\") == 1).select(\"city\")\n",
    "\n",
    "# Count the number of fraud occurrences by city\n",
    "fraud_counts = fraud_cities.groupBy(\"city\").count().orderBy(\"count\", ascending=False).limit(20)\n",
    "\n",
    "# Convert the fraud counts to a Pandas dataframe for plotting\n",
    "fraud_counts_pd = fraud_counts.toPandas()\n",
    "\n",
    "# Create a bar plot\n",
    "plt.bar(fraud_counts_pd[\"city\"], fraud_counts_pd[\"count\"])\n",
    "\n",
    "# Add labels and title\n",
    "plt.xlabel(\"City\")\n",
    "plt.ylabel(\"Fraud Count\")\n",
    "plt.title(\"Top 20 Fraudulent Cities\")\n",
    "\n",
    "# Rotate the x-axis labels for better visibility\n",
    "plt.xticks(rotation=90)\n",
    "\n",
    "# Show the plot\n",
    "plt.show()\n"
   ]
  },
  {
   "cell_type": "code",
   "execution_count": 54,
   "metadata": {},
   "outputs": [],
   "source": [
    "from pyspark.sql.functions import col\n",
    "\n",
    "fraud_count = Features_pd1.filter(col('is_fraud') == 1).count()\n"
   ]
  },
  {
   "cell_type": "code",
   "execution_count": 55,
   "metadata": {},
   "outputs": [
    {
     "data": {
      "text/plain": [
       "1140"
      ]
     },
     "execution_count": 55,
     "metadata": {},
     "output_type": "execute_result"
    }
   ],
   "source": [
    "fraud_count"
   ]
  },
  {
   "cell_type": "code",
   "execution_count": 56,
   "metadata": {},
   "outputs": [],
   "source": [
    "FeaturesAll = Features_pd1"
   ]
  },
  {
   "cell_type": "markdown",
   "metadata": {},
   "source": [
    "Scaling the features\n"
   ]
  },
  {
   "cell_type": "code",
   "execution_count": 57,
   "metadata": {},
   "outputs": [],
   "source": [
    "from pyspark.sql.functions import log10, col\n",
    "\n",
    "FeaturesAll = FeaturesAll.withColumn('sum_tot_drug_cst', log10(col('sum_tot_drug_cst') + 1.0))\n",
    "FeaturesAll = FeaturesAll.withColumn('sum_tot_clms', log10(col('sum_tot_clms') + 1.0))\n",
    "FeaturesAll = FeaturesAll.withColumn('sum_tot_day_suply', log10(col('sum_tot_day_suply') + 1.0))\n",
    "FeaturesAll = FeaturesAll.withColumn('Total_Payment_Sum', log10(col('Total_Payment_Sum') + 1.0))\n",
    "\n",
    "FeaturesAll = FeaturesAll.withColumn('avg_tot_drug_cst', log10(col('avg_tot_drug_cst') + 1.0))\n",
    "FeaturesAll = FeaturesAll.withColumn('avg_tot_clms', log10(col('avg_tot_clms') + 1.0))\n",
    "FeaturesAll = FeaturesAll.withColumn('avg_tot_day_suply', log10(col('avg_tot_day_suply') + 1.0))\n",
    "\n",
    "FeaturesAll = FeaturesAll.withColumn('max_tot_drug_cst', log10(col('max_tot_drug_cst') + 1.0))\n",
    "FeaturesAll = FeaturesAll.withColumn('max_tot_clms', log10(col('max_tot_clms') + 1.0))\n",
    "FeaturesAll = FeaturesAll.withColumn('max_tot_day_suply', log10(col('max_tot_day_suply') + 1.0))\n",
    "\n",
    "FeaturesAll = FeaturesAll.withColumn('claim_max-mean', col('max_tot_clms') - col('avg_tot_clms'))\n",
    "FeaturesAll = FeaturesAll.withColumn('supply_max-mean', col('max_tot_day_suply') - col('avg_tot_day_suply'))\n",
    "FeaturesAll = FeaturesAll.withColumn('drug_max-mean', col('max_tot_drug_cst') - col('avg_tot_drug_cst'))\n",
    "\n"
   ]
  },
  {
   "cell_type": "code",
   "execution_count": 58,
   "metadata": {},
   "outputs": [
    {
     "data": {
      "text/plain": [
       "DataFrame[Prscrbr_NPI: string, last_name: string, first_name: string, city: string, state: string, sum_tot_drug_cst: double, avg_tot_drug_cst: double, max_tot_drug_cst: double, sum_tot_clms: double, avg_tot_clms: double, max_tot_clms: double, sum_tot_day_suply: double, avg_tot_day_suply: double, max_tot_day_suply: double, Speciality: string, Total_Payment_Sum: double, is_fraud: int, claim_max-mean: double, supply_max-mean: double, drug_max-mean: double]"
      ]
     },
     "execution_count": 58,
     "metadata": {},
     "output_type": "execute_result"
    }
   ],
   "source": [
    "FeaturesAll"
   ]
  },
  {
   "cell_type": "code",
   "execution_count": 59,
   "metadata": {},
   "outputs": [],
   "source": [
    "from pyspark.sql.functions import col\n",
    "\n",
    "FeaturesAll = FeaturesAll.withColumn(\"Prscrbr_NPI\", col(\"Prscrbr_NPI\").cast(\"string\"))\n"
   ]
  },
  {
   "cell_type": "markdown",
   "metadata": {},
   "source": [
    "Categorizing the features into categorical and numerical for easier analysis"
   ]
  },
  {
   "cell_type": "code",
   "execution_count": 60,
   "metadata": {},
   "outputs": [],
   "source": [
    "from pyspark.sql.types import StringType\n",
    "\n",
    "categorical_features = ['Prscrbr_NPI', 'last_name', 'Speciality', 'first_name', 'city', 'state']\n",
    "\n",
    "for feature in categorical_features:\n",
    "    FeaturesAll = FeaturesAll.withColumn(feature, FeaturesAll[feature].cast(StringType()))\n"
   ]
  },
  {
   "cell_type": "code",
   "execution_count": 61,
   "metadata": {},
   "outputs": [],
   "source": [
    "numerical_features = ['sum_tot_drug_cst', 'avg_tot_drug_cst','Total_Payment_Sum',\n",
    "       'max_tot_drug_cst', 'sum_tot_clms',\n",
    "       'avg_tot_clms', 'max_tot_clms',\n",
    "       'sum_tot_day_suply', 'avg_tot_day_suply', 'max_tot_day_suply',\n",
    "    'claim_max-mean','supply_max-mean', 'drug_max-mean']"
   ]
  },
  {
   "cell_type": "markdown",
   "metadata": {},
   "source": [
    "assigning target name to is_fraud column"
   ]
  },
  {
   "cell_type": "code",
   "execution_count": 62,
   "metadata": {},
   "outputs": [],
   "source": [
    "target = ['is_fraud']\n"
   ]
  },
  {
   "cell_type": "code",
   "execution_count": 63,
   "metadata": {},
   "outputs": [],
   "source": [
    "allvars = categorical_features + numerical_features + target\n"
   ]
  },
  {
   "cell_type": "code",
   "execution_count": 64,
   "metadata": {},
   "outputs": [],
   "source": [
    "y = FeaturesAll.select(\"is_fraud\").rdd.flatMap(lambda x: x).collect()\n",
    "X = FeaturesAll.select([col(c) for c in allvars if c != 'is_fraud'])\n"
   ]
  },
  {
   "cell_type": "markdown",
   "metadata": {},
   "source": [
    "Using 100% of the data (Scaling out)  to train and test into 80:20 ratio"
   ]
  },
  {
   "cell_type": "code",
   "execution_count": 65,
   "metadata": {},
   "outputs": [
    {
     "name": "stdout",
     "output_type": "stream",
     "text": [
      "714253 14\n",
      "178920 14\n"
     ]
    }
   ],
   "source": [
    "from pyspark.ml.feature import VectorAssembler\n",
    "from pyspark.sql.functions import col\n",
    "from pyspark.sql.types import DoubleType\n",
    "from pyspark.ml.tuning import TrainValidationSplit\n",
    "\n",
    "# select the numerical columns from the original dataframe\n",
    "numerical_features = ['sum_tot_drug_cst', 'avg_tot_drug_cst','Total_Payment_Sum',\n",
    "       'max_tot_drug_cst', 'sum_tot_clms',\n",
    "       'avg_tot_clms', 'max_tot_clms',\n",
    "       'sum_tot_day_suply', 'avg_tot_day_suply', 'max_tot_day_suply',\n",
    "    'claim_max-mean','supply_max-mean', 'drug_max-mean']\n",
    "X = FeaturesAll.select(numerical_features)\n",
    "\n",
    "# convert numerical columns to double type\n",
    "for feature in numerical_features:\n",
    "    X = X.withColumn(feature, col(feature).cast(DoubleType()))\n",
    "\n",
    "# combine features into a single vector column\n",
    "vectorAssembler = VectorAssembler(inputCols=X.columns, outputCol=\"features_vec\")\n",
    "X = vectorAssembler.transform(X)\n",
    "\n",
    "# split the data into train and validation sets\n",
    "train, test = X.randomSplit([0.8, 0.2], seed=0)\n",
    "\n",
    "# select the correct columns for input and output\n",
    "X_train = train.select(X.columns)\n",
    "X_valid = test.select(X.columns)\n",
    "y_train = train.select(\"Total_Payment_Sum\")\n",
    "y_valid = test.select(\"Total_Payment_Sum\")\n",
    "\n",
    "print(X_train.count(), len(X_train.columns))\n",
    "print(X_valid.count(), len(X_valid.columns))\n"
   ]
  },
  {
   "cell_type": "markdown",
   "metadata": {},
   "source": [
    "Handling the null values"
   ]
  },
  {
   "cell_type": "code",
   "execution_count": 66,
   "metadata": {},
   "outputs": [],
   "source": [
    "from pyspark.sql.functions import col\n",
    "\n",
    "# fill null values in numerical columns with 0\n",
    "for feature in numerical_features:\n",
    "    X_train = X_train.withColumn(feature, col(feature).cast(\"double\"))\n",
    "    X_valid = X_valid.withColumn(feature, col(feature).cast(\"double\"))\n",
    "    X_train = X_train.na.fill(0, [feature])\n",
    "    X_valid = X_valid.na.fill(0, [feature])\n",
    "\n",
    "# fill null values in categorical columns with 'NA'\n",
    "for feature in categorical_features:\n",
    "    if feature in X_train.columns:\n",
    "        X_train = X_train.na.fill('NA', [feature])\n",
    "    if feature in X_valid.columns:\n",
    "        X_valid = X_valid.na.fill('NA', [feature])\n",
    "\n"
   ]
  },
  {
   "cell_type": "markdown",
   "metadata": {},
   "source": []
  },
  {
   "cell_type": "code",
   "execution_count": 67,
   "metadata": {},
   "outputs": [
    {
     "data": {
      "text/plain": [
       "[('sum_tot_drug_cst', 'double'),\n",
       " ('avg_tot_drug_cst', 'double'),\n",
       " ('Total_Payment_Sum', 'double'),\n",
       " ('max_tot_drug_cst', 'double'),\n",
       " ('sum_tot_clms', 'double'),\n",
       " ('avg_tot_clms', 'double'),\n",
       " ('max_tot_clms', 'double'),\n",
       " ('sum_tot_day_suply', 'double'),\n",
       " ('avg_tot_day_suply', 'double'),\n",
       " ('max_tot_day_suply', 'double'),\n",
       " ('claim_max-mean', 'double'),\n",
       " ('supply_max-mean', 'double'),\n",
       " ('drug_max-mean', 'double')]"
      ]
     },
     "execution_count": 67,
     "metadata": {},
     "output_type": "execute_result"
    }
   ],
   "source": [
    "from pyspark.sql.functions import col\n",
    "\n",
    "X_train.select([col(col_name).cast(\"double\").alias(col_name) for col_name in numerical_features]).dtypes\n",
    "\n"
   ]
  },
  {
   "cell_type": "code",
   "execution_count": 68,
   "metadata": {},
   "outputs": [
    {
     "name": "stdout",
     "output_type": "stream",
     "text": [
      "714538\n",
      "178635\n"
     ]
    }
   ],
   "source": [
    "from pyspark.sql.functions import rand\n",
    "\n",
    "df_len = FeaturesAll.count()\n",
    "train_len = int(df_len * 0.8)\n",
    "\n",
    "df_train = FeaturesAll.orderBy(rand()).limit(train_len)\n",
    "df_valid = FeaturesAll.orderBy(rand()).exceptAll(df_train)\n",
    "\n",
    "print(df_train.count())\n",
    "print(df_valid.count())\n"
   ]
  },
  {
   "cell_type": "code",
   "execution_count": 69,
   "metadata": {},
   "outputs": [
    {
     "name": "stdout",
     "output_type": "stream",
     "text": [
      "root\n",
      " |-- Prscrbr_NPI: string (nullable = true)\n",
      " |-- last_name: string (nullable = true)\n",
      " |-- first_name: string (nullable = true)\n",
      " |-- city: string (nullable = true)\n",
      " |-- state: string (nullable = true)\n",
      " |-- sum_tot_drug_cst: double (nullable = true)\n",
      " |-- avg_tot_drug_cst: double (nullable = true)\n",
      " |-- max_tot_drug_cst: double (nullable = true)\n",
      " |-- sum_tot_clms: double (nullable = true)\n",
      " |-- avg_tot_clms: double (nullable = true)\n",
      " |-- max_tot_clms: double (nullable = true)\n",
      " |-- sum_tot_day_suply: double (nullable = true)\n",
      " |-- avg_tot_day_suply: double (nullable = true)\n",
      " |-- max_tot_day_suply: double (nullable = true)\n",
      " |-- Speciality: string (nullable = true)\n",
      " |-- Total_Payment_Sum: double (nullable = true)\n",
      " |-- is_fraud: integer (nullable = true)\n",
      " |-- claim_max-mean: double (nullable = true)\n",
      " |-- supply_max-mean: double (nullable = true)\n",
      " |-- drug_max-mean: double (nullable = true)\n",
      "\n"
     ]
    }
   ],
   "source": [
    "df_train.printSchema()\n"
   ]
  },
  {
   "cell_type": "code",
   "execution_count": 70,
   "metadata": {},
   "outputs": [],
   "source": [
    "from pyspark.sql.functions import col\n",
    "\n",
    "partD_drug_train = partD_Drug_df.join(df_train.select('Prscrbr_NPI', 'is_fraud'), on=['Prscrbr_NPI'], how='inner')\n",
    "partD_drug_all = partD_Drug_df.join(FeaturesAll.select('Prscrbr_NPI', 'is_fraud'), on=['Prscrbr_NPI'], how='inner')\n"
   ]
  },
  {
   "cell_type": "markdown",
   "metadata": {},
   "source": [
    "Displaying tottal fraud in entire dataset"
   ]
  },
  {
   "cell_type": "code",
   "execution_count": 71,
   "metadata": {},
   "outputs": [
    {
     "name": "stdout",
     "output_type": "stream",
     "text": [
      "46754\n"
     ]
    }
   ],
   "source": [
    "print(partD_drug_train.filter(col(\"is_fraud\") == 1).count())\n"
   ]
  },
  {
   "cell_type": "code",
   "execution_count": null,
   "metadata": {},
   "outputs": [],
   "source": []
  },
  {
   "cell_type": "code",
   "execution_count": 72,
   "metadata": {},
   "outputs": [
    {
     "name": "stdout",
     "output_type": "stream",
     "text": [
      "Total records in train set : \n",
      "19949515\n",
      "Total Fraud in train set : \n",
      "46706\n",
      "+-----------+--------------------+------------+--------+-------------+---------------+--------+\n",
      "|Prscrbr_NPI|           Brnd_Name|Tot_Drug_Cst|Tot_Clms|Tot_Day_Suply|   Prscrbr_Type|is_fraud|\n",
      "+-----------+--------------------+------------+--------+-------------+---------------+--------+\n",
      "| 1003017906|Acetaminophen-Cod...|      415.07|      12|          280|Family Practice|       0|\n",
      "| 1003017906|           Acyclovir|      795.45|      39|         1159|Family Practice|       0|\n",
      "| 1003017906|  Alendronate Sodium|      175.21|      15|          868|Family Practice|       0|\n",
      "| 1003017906|         Allopurinol|      683.83|      51|         2607|Family Practice|       0|\n",
      "| 1003017906|          Alprazolam|      305.93|      30|          790|Family Practice|       0|\n",
      "| 1003017906|      Amiodarone Hcl|       45.69|      12|          360|Family Practice|       0|\n",
      "| 1003017906|   Amitriptyline Hcl|       195.5|      20|          600|Family Practice|       0|\n",
      "| 1003017906| Amlodipine Besylate|     1151.16|     162|        10493|Family Practice|       0|\n",
      "| 1003017906|         Amoxicillin|       60.29|      13|           91|Family Practice|       0|\n",
      "| 1003017906|Amoxicillin-Clavu...|      202.48|      15|          158|Family Practice|       0|\n",
      "| 1003017906|Aspirin-Dipyridam...|     8427.78|      13|          750|Family Practice|       0|\n",
      "| 1003017906|            Atenolol|      450.93|      48|         3480|Family Practice|       0|\n",
      "| 1003017906|Atorvastatin Calcium|     1840.58|      96|         5621|Family Practice|       0|\n",
      "| 1003017906|        Azithromycin|      356.93|      54|          270|Family Practice|       0|\n",
      "| 1003017906|            Baclofen|      124.87|      12|          345|Family Practice|       0|\n",
      "| 1003017906|      Benazepril Hcl|      157.82|      16|         1440|Family Practice|       0|\n",
      "| 1003017906|    Bupropion Hcl Sr|      251.92|      15|          690|Family Practice|       0|\n",
      "| 1003017906|        Bupropion Xl|     1323.25|      48|         2220|Family Practice|       0|\n",
      "| 1003017906|          Carvedilol|      254.22|      34|         1995|Family Practice|       0|\n",
      "| 1003017906|      Chlorthalidone|      1978.0|      48|         2820|Family Practice|       0|\n",
      "+-----------+--------------------+------------+--------+-------------+---------------+--------+\n",
      "only showing top 20 rows\n",
      "\n"
     ]
    }
   ],
   "source": [
    "# Total records in train set\n",
    "print(\"Total records in train set : \")\n",
    "print(partD_drug_train.count())\n",
    "\n",
    "# Total Fraud in train set\n",
    "print(\"Total Fraud in train set : \")\n",
    "print(partD_drug_train.filter(\"is_fraud == 1\").count())\n",
    "\n",
    "# Show DataFrame\n",
    "partD_drug_train.show()"
   ]
  },
  {
   "cell_type": "markdown",
   "metadata": {},
   "source": [
    "Using the next line to scale down the size of database and use it by filter the 'fraction' parameter. ANalysis done on 100%, 50%, 20% and 5%"
   ]
  },
  {
   "cell_type": "code",
   "execution_count": 73,
   "metadata": {},
   "outputs": [],
   "source": [
    "partD_drug_train_20= partD_drug_train.sample(fraction=0.05, seed=42)"
   ]
  },
  {
   "cell_type": "markdown",
   "metadata": {},
   "source": [
    "Using vector assembler and splitting the data train and test data"
   ]
  },
  {
   "cell_type": "code",
   "execution_count": 74,
   "metadata": {},
   "outputs": [],
   "source": [
    "feature_cols = ['Tot_Drug_Cst', 'Tot_Clms', 'Tot_Day_Suply']\n",
    "\n",
    "# Create a vector assembler to assemble the features into a vector\n",
    "assembler = VectorAssembler(inputCols=feature_cols, outputCol=\"features\")\n",
    "\n",
    "# Apply the vector assembler to the training data\n",
    "train_data = assembler.transform(partD_drug_train_20).select(\"features\", \"is_fraud\")\n",
    "\n",
    "# Split the data into training and test sets\n",
    "train_set, test_set = train_data.randomSplit([0.7, 0.3], seed=12345)"
   ]
  },
  {
   "cell_type": "code",
   "execution_count": 75,
   "metadata": {},
   "outputs": [
    {
     "name": "stdout",
     "output_type": "stream",
     "text": [
      "Number of data in train_set: 697534\n"
     ]
    }
   ],
   "source": [
    "num_train_data = train_set.count()\n",
    "print(\"Number of data in train_set:\", num_train_data)\n"
   ]
  },
  {
   "cell_type": "code",
   "execution_count": 76,
   "metadata": {},
   "outputs": [],
   "source": [
    "################################################"
   ]
  },
  {
   "cell_type": "code",
   "execution_count": 77,
   "metadata": {},
   "outputs": [],
   "source": [
    " import time\n"
   ]
  },
  {
   "cell_type": "markdown",
   "metadata": {},
   "source": [
    "Running Logistic Regression"
   ]
  },
  {
   "cell_type": "code",
   "execution_count": 80,
   "metadata": {},
   "outputs": [
    {
     "name": "stdout",
     "output_type": "stream",
     "text": [
      "Time to train logistic regression model: 220.3205 seconds\n",
      "Time to make predictions on test set: 0.0326 seconds\n",
      "Accuracy: 0.5937\n",
      "F1 Score: 0.9965\n"
     ]
    }
   ],
   "source": [
    "from pyspark.ml.classification import LogisticRegression\n",
    "from pyspark.ml.evaluation import MulticlassClassificationEvaluator,BinaryClassificationEvaluator\n",
    "\n",
    "# Create a logistic regression model with default parameters\n",
    "lr = LogisticRegression(featuresCol='features', labelCol='is_fraud')\n",
    "\n",
    "# Train the model using the training set\n",
    "start = time.time()\n",
    "lr_model = lr.fit(train_set)\n",
    "end = time.time()\n",
    "print(f\"Time to train logistic regression model: {end - start:.4f} seconds\")\n",
    "\n",
    "# Make predictions on the test set\n",
    "start = time.time()\n",
    "predictions = lr_model.transform(test_set)\n",
    "end = time.time()\n",
    "print(f\"Time to make predictions on test set: {end - start:.4f} seconds\")\n",
    "\n",
    "# Evaluate the model using binary classification metrics\n",
    "binary_evaluator = BinaryClassificationEvaluator(labelCol='is_fraud')\n",
    "accuracy = binary_evaluator.evaluate(predictions)\n",
    "\n",
    "# Evaluate the model using F1 score\n",
    "multi_evaluator = MulticlassClassificationEvaluator(labelCol='is_fraud', metricName='f1')\n",
    "f1_score = multi_evaluator.evaluate(predictions)\n",
    "\n",
    "print(f\"Accuracy: {accuracy:.4f}\")\n",
    "print(f\"F1 Score: {f1_score:.4f}\")\n"
   ]
  },
  {
   "cell_type": "markdown",
   "metadata": {},
   "source": [
    "Running Naive Bayes on data"
   ]
  },
  {
   "cell_type": "code",
   "execution_count": 81,
   "metadata": {},
   "outputs": [
    {
     "name": "stdout",
     "output_type": "stream",
     "text": [
      "Time to train Naive Bayes model: 161.3878 seconds\n",
      "Time to make predictions on test set: 0.0361 seconds\n",
      "Accuracy: 0.4770\n",
      "F1 Score: 0.8752\n"
     ]
    }
   ],
   "source": [
    "from pyspark.ml.classification import NaiveBayes\n",
    "from pyspark.ml.evaluation import BinaryClassificationEvaluator, MulticlassClassificationEvaluator\n",
    "\n",
    "# Create a Naive Bayes model with default parameters\n",
    "nb = NaiveBayes(featuresCol='features', labelCol='is_fraud')\n",
    "\n",
    "# Train the model using the training set\n",
    "start = time.time()\n",
    "nb_model = nb.fit(train_set)\n",
    "end = time.time()\n",
    "print(f\"Time to train Naive Bayes model: {end - start:.4f} seconds\")\n",
    "\n",
    "# Make predictions on the test set\n",
    "start = time.time()\n",
    "predictions = nb_model.transform(test_set)\n",
    "end = time.time()\n",
    "print(f\"Time to make predictions on test set: {end - start:.4f} seconds\")\n",
    "\n",
    "# Evaluate the model using binary classification metrics\n",
    "binary_evaluator = BinaryClassificationEvaluator(labelCol='is_fraud')\n",
    "accuracy = binary_evaluator.evaluate(predictions)\n",
    "\n",
    "# Evaluate the model using F1 score\n",
    "multi_evaluator = MulticlassClassificationEvaluator(labelCol='is_fraud', metricName='f1')\n",
    "f1_score = multi_evaluator.evaluate(predictions)\n",
    "\n",
    "print(f\"Accuracy: {accuracy:.4f}\")\n",
    "print(f\"F1 Score: {f1_score:.4f}\")\n"
   ]
  },
  {
   "cell_type": "markdown",
   "metadata": {},
   "source": [
    "Running Gradient Boosting Trees Classifier"
   ]
  },
  {
   "cell_type": "code",
   "execution_count": 82,
   "metadata": {},
   "outputs": [
    {
     "name": "stdout",
     "output_type": "stream",
     "text": [
      "Time to train GBTClassifier model: 285.3160 seconds\n",
      "Time to make predictions on test set: 0.0272 seconds\n",
      "Accuracy: 0.6036\n",
      "F1 Score: 0.9964\n"
     ]
    }
   ],
   "source": [
    "from pyspark.ml.classification import GBTClassifier\n",
    "from pyspark.ml.evaluation import BinaryClassificationEvaluator, MulticlassClassificationEvaluator\n",
    "\n",
    "# Create a GBTClassifier model with default parameters\n",
    "gbt = GBTClassifier(featuresCol='features', labelCol='is_fraud')\n",
    "\n",
    "# Train the model using the training set\n",
    "start = time.time()\n",
    "gbt_model = gbt.fit(train_set)\n",
    "end = time.time()\n",
    "print(f\"Time to train GBTClassifier model: {end - start:.4f} seconds\")\n",
    "\n",
    "# Make predictions on the test set\n",
    "start = time.time()\n",
    "predictions = gbt_model.transform(test_set)\n",
    "end = time.time()\n",
    "print(f\"Time to make predictions on test set: {end - start:.4f} seconds\")\n",
    "\n",
    "# Evaluate the model using binary classification metrics\n",
    "binary_evaluator = BinaryClassificationEvaluator(labelCol='is_fraud')\n",
    "accuracy = binary_evaluator.evaluate(predictions)\n",
    "\n",
    "# Evaluate the model using F1 score\n",
    "multi_evaluator = MulticlassClassificationEvaluator(labelCol='is_fraud', metricName='f1')\n",
    "f1_score = multi_evaluator.evaluate(predictions)\n",
    "\n",
    "print(f\"Accuracy: {accuracy:.4f}\")\n",
    "print(f\"F1 Score: {f1_score:.4f}\")\n"
   ]
  },
  {
   "cell_type": "markdown",
   "metadata": {},
   "source": [
    "Using Random Forest Classifier"
   ]
  },
  {
   "cell_type": "code",
   "execution_count": null,
   "metadata": {},
   "outputs": [
    {
     "name": "stdout",
     "output_type": "stream",
     "text": [
      "Time to train RandomForestClassifier model: 324.4908 seconds\n",
      "Time to make predictions on test set: 0.0276 seconds\n",
      "Accuracy: 0.5000\n",
      "F1 Score: 0.9966\n"
     ]
    }
   ],
   "source": [
    "from pyspark.ml.classification import RandomForestClassifier\n",
    "from pyspark.ml.evaluation import BinaryClassificationEvaluator, MulticlassClassificationEvaluator\n",
    "\n",
    "# Create a RandomForestClassifier model with default parameters\n",
    "rf = RandomForestClassifier(featuresCol='features', labelCol='is_fraud')\n",
    "\n",
    "# Train the model using the training set\n",
    "start = time.time()\n",
    "rf_model = rf.fit(train_set)\n",
    "end = time.time()\n",
    "print(f\"Time to train RandomForestClassifier model: {end - start:.4f} seconds\")\n",
    "\n",
    "# Make predictions on the test set\n",
    "start = time.time()\n",
    "predictions = rf_model.transform(test_set)\n",
    "end = time.time()\n",
    "print(f\"Time to make predictions on test set: {end - start:.4f} seconds\")\n",
    "\n",
    "# Evaluate the model using binary classification metrics\n",
    "binary_evaluator = BinaryClassificationEvaluator(labelCol='is_fraud')\n",
    "accuracy = binary_evaluator.evaluate(predictions)\n",
    "\n",
    "# Evaluate the model using F1 score\n",
    "multi_evaluator = MulticlassClassificationEvaluator(labelCol='is_fraud', metricName='f1')\n",
    "f1_score = multi_evaluator.evaluate(predictions)\n",
    "\n",
    "print(f\"Accuracy: {accuracy:.4f}\")\n",
    "print(f\"F1 Score: {f1_score:.4f}\")\n"
   ]
  },
  {
   "cell_type": "markdown",
   "metadata": {},
   "source": [
    "Running Decision Tree Classifier"
   ]
  },
  {
   "cell_type": "code",
   "execution_count": 83,
   "metadata": {},
   "outputs": [
    {
     "name": "stdout",
     "output_type": "stream",
     "text": [
      "Time to split data into training and test sets: 0.0152 seconds\n",
      "Time to train DecisionTreeClassifier model: 174.7545 seconds\n",
      "Time to make predictions on test set: 0.0292 seconds\n",
      "Accuracy: 0.5000\n"
     ]
    }
   ],
   "source": [
    "from pyspark.ml.classification import DecisionTreeClassifier\n",
    "\n",
    "\n",
    "# Split the data into training and test sets\n",
    "start = time.time()\n",
    "train_set, test_set = train_data.randomSplit([0.7, 0.3], seed=12345)\n",
    "end = time.time()\n",
    "print(f\"Time to split data into training and test sets: {end - start:.4f} seconds\")\n",
    "\n",
    "# Create a DecisionTreeClassifier model\n",
    "dt = DecisionTreeClassifier(\n",
    "    featuresCol='features', \n",
    "    labelCol='is_fraud',\n",
    "    maxDepth=5,\n",
    "    maxBins=32,\n",
    "    minInstancesPerNode=1,\n",
    "    impurity='gini'\n",
    ")\n",
    "\n",
    "# Train the model using the training set\n",
    "start = time.time()\n",
    "dt_model = dt.fit(train_set)\n",
    "end = time.time()\n",
    "print(f\"Time to train DecisionTreeClassifier model: {end - start:.4f} seconds\")\n",
    "\n",
    "# Make predictions on the test set\n",
    "start = time.time()\n",
    "predictions = dt_model.transform(test_set)\n",
    "end = time.time()\n",
    "print(f\"Time to make predictions on test set: {end - start:.4f} seconds\")\n",
    "\n",
    "# Evaluate the model using binary classification metrics\n",
    "evaluator = BinaryClassificationEvaluator(labelCol='is_fraud')\n",
    "accuracy = evaluator.evaluate(predictions)\n",
    "\n",
    "print(f\"Accuracy: {accuracy:.4f}\")"
   ]
  },
  {
   "cell_type": "markdown",
   "metadata": {},
   "source": [
    "Creating a graph to display the effect of F1 score on Scaling"
   ]
  },
  {
   "cell_type": "code",
   "execution_count": 84,
   "metadata": {},
   "outputs": [
    {
     "data": {
      "image/png": "[encoded data removed]",
      "text/plain": [
       "<Figure size 432x288 with 1 Axes>"
      ]
     },
     "metadata": {
      "needs_background": "light"
     },
     "output_type": "display_data"
    }
   ],
   "source": [
    "\n",
    "import matplotlib.pyplot as plt\n",
    "import numpy as np\n",
    "\n",
    "# Define the x-axis points\n",
    "x = ['2 Nodes', '4 Nodes']\n",
    "\n",
    "# Define the y-axis values for each bar\n",
    "logistic_regression = [0.9965, 0.9964]\n",
    "naive_bayes = [0.8734, 0.8725]\n",
    "gbt_classifier = [0.9965, 0.9965]\n",
    "random_forest = [0.9966, 0.9965]\n",
    "\n",
    "# Set the width of each bar\n",
    "bar_width = 0.2\n",
    "\n",
    "# Create an array to position the bars on the x-axis\n",
    "bar_positions = np.arange(len(x))\n",
    "\n",
    "# Create the bar plots for each line\n",
    "plt.bar(bar_positions - 1.5*bar_width, logistic_regression, width=bar_width, label='Logistic Regression')\n",
    "plt.bar(bar_positions - 0.5*bar_width, naive_bayes, width=bar_width, label='Naive Bayes')\n",
    "plt.bar(bar_positions + 0.5*bar_width, gbt_classifier, width=bar_width, label='GBT Classifier')\n",
    "plt.bar(bar_positions + 1.5*bar_width, random_forest, width=bar_width, label='Random Forest')\n",
    "\n",
    "# Add labels and title to the graph\n",
    "plt.xlabel('Number of Nodes')\n",
    "plt.ylabel('F1 Score')\n",
    "plt.title('Scaling effect on F1 Score')\n",
    "\n",
    "# Add tick labels to the x-axis\n",
    "plt.xticks(bar_positions, x)\n",
    "\n",
    "# Add a legend to the graph\n",
    "plt.legend()\n",
    "\n",
    "# Display the graph\n",
    "plt.show()"
   ]
  },
  {
   "cell_type": "markdown",
   "metadata": {},
   "source": [
    "Creating a graph to display the effect of Accuracy on Scaling"
   ]
  },
  {
   "cell_type": "code",
   "execution_count": 85,
   "metadata": {},
   "outputs": [
    {
     "data": {
      "image/png": "[encoded data removed]",
      "text/plain": [
       "<Figure size 432x288 with 1 Axes>"
      ]
     },
     "metadata": {
      "needs_background": "light"
     },
     "output_type": "display_data"
    }
   ],
   "source": [
    "# Define the x-axis points\n",
    "x = ['2 Nodes', '4 Nodes']\n",
    "\n",
    "# Define the y-axis values for each line\n",
    "logistic_regression = [0.5835, 0.5947]\n",
    "naive_bayes = [0.5119, 0.4789]\n",
    "gbt_classifier = [0.6005, 0.6282]\n",
    "random_forest = [0.5500, 0.5000]\n",
    "\n",
    "# Plot the lines on the graph with markers for each data point\n",
    "plt.plot(x, logistic_regression, marker='o', label='Logistic Regression')\n",
    "plt.plot(x, naive_bayes, marker='s', label='Naive Bayes')\n",
    "plt.plot(x, gbt_classifier, marker='^', label='GBT Classifier')\n",
    "plt.plot(x, random_forest, marker='d', label='Random Forest')\n",
    "\n",
    "# Add labels and title to the graph\n",
    "plt.xlabel('Number of Nodes')\n",
    "plt.ylabel('Accuracy')\n",
    "plt.title('Scaling Effect on Accuracy')\n",
    "\n",
    "# Add a legend to the graph\n",
    "plt.legend()\n",
    "\n",
    "# Display the graph\n",
    "plt.show()"
   ]
  },
  {
   "cell_type": "markdown",
   "metadata": {},
   "source": [
    "Creating a graph to display the effect of Time on Scaling and using various algorithms"
   ]
  },
  {
   "cell_type": "code",
   "execution_count": 86,
   "metadata": {},
   "outputs": [
    {
     "data": {
      "image/png": "[encoded data removed]",
      "text/plain": [
       "<Figure size 432x288 with 1 Axes>"
      ]
     },
     "metadata": {
      "needs_background": "light"
     },
     "output_type": "display_data"
    }
   ],
   "source": [
    "# Define the x-axis points\n",
    "x = ['2 Nodes', '4 Nodes']\n",
    "\n",
    "# Define the y-axis values for each line\n",
    "logistic_regression = [220.5698, 185.1697]\n",
    "naive_bayes = [264.6157, 216.4411]\n",
    "gbt_classifier = [273.0909, 236.7622]\n",
    "random_model = [324.4908, 300.7622]\n",
    "\n",
    "# Plot the lines on the graph with markers for each data point\n",
    "plt.plot(x, logistic_regression, marker='o', label='Logistic Regression')\n",
    "plt.plot(x, naive_bayes, marker='s', label='Naive Bayes')\n",
    "plt.plot(x, gbt_classifier, marker='^', label='GBT Classifier')\n",
    "plt.plot(x, random_model, marker='d', label='Random Model')\n",
    "\n",
    "# Add labels and title to the graph\n",
    "plt.xlabel('Number of Nodes')\n",
    "plt.ylabel('Time (seconds)')\n",
    "plt.title('Time effect of Scaling on Classification Models')\n",
    "\n",
    "# Add a legend to the graph\n",
    "plt.legend()\n",
    "\n",
    "# Display the graph\n",
    "plt.show()"
   ]
  },
  {
   "cell_type": "code",
   "execution_count": null,
   "metadata": {},
   "outputs": [],
   "source": []
  },
  {
   "cell_type": "code",
   "execution_count": null,
   "metadata": {},
   "outputs": [],
   "source": []
  },
  {
   "cell_type": "code",
   "execution_count": null,
   "metadata": {},
   "outputs": [],
   "source": []
  },
  {
   "cell_type": "code",
   "execution_count": null,
   "metadata": {},
   "outputs": [],
   "source": []
  },
  {
   "cell_type": "code",
   "execution_count": null,
   "metadata": {},
   "outputs": [],
   "source": [
    "\n"
   ]
  },
  {
   "cell_type": "code",
   "execution_count": null,
   "metadata": {},
   "outputs": [],
   "source": []
  },
  {
   "cell_type": "code",
   "execution_count": null,
   "metadata": {},
   "outputs": [],
   "source": []
  },
  {
   "cell_type": "code",
   "execution_count": null,
   "metadata": {},
   "outputs": [],
   "source": [
    "\n"
   ]
  },
  {
   "cell_type": "code",
   "execution_count": null,
   "metadata": {},
   "outputs": [],
   "source": []
  },
  {
   "cell_type": "code",
   "execution_count": null,
   "metadata": {},
   "outputs": [],
   "source": [
    "\n"
   ]
  },
  {
   "cell_type": "code",
   "execution_count": null,
   "metadata": {},
   "outputs": [],
   "source": []
  },
  {
   "cell_type": "code",
   "execution_count": null,
   "metadata": {},
   "outputs": [],
   "source": []
  },
  {
   "cell_type": "code",
   "execution_count": null,
   "metadata": {},
   "outputs": [],
   "source": []
  },
  {
   "cell_type": "code",
   "execution_count": null,
   "metadata": {},
   "outputs": [],
   "source": []
  },
  {
   "cell_type": "code",
   "execution_count": null,
   "metadata": {},
   "outputs": [],
   "source": []
  },
  {
   "cell_type": "code",
   "execution_count": null,
   "metadata": {},
   "outputs": [],
   "source": []
  },
  {
   "cell_type": "code",
   "execution_count": null,
   "metadata": {},
   "outputs": [],
   "source": []
  },
  {
   "cell_type": "code",
   "execution_count": null,
   "metadata": {},
   "outputs": [],
   "source": []
  },
  {
   "cell_type": "code",
   "execution_count": null,
   "metadata": {},
   "outputs": [],
   "source": []
  }
 ],
 "metadata": {
  "kernelspec": {
   "display_name": "Python 3 (ipykernel)",
   "language": "python",
   "name": "python3"
  },
  "language_info": {
   "codemirror_mode": {
    "name": "ipython",
    "version": 3
   },
   "file_extension": ".py",
   "mimetype": "text/x-python",
   "name": "python",
   "nbconvert_exporter": "python",
   "pygments_lexer": "ipython3",
   "version": "3.9.12"
  }
 },
 "nbformat": 4,
 "nbformat_minor": 4
}
